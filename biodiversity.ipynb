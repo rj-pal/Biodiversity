{
 "cells": [
  {
   "cell_type": "code",
   "execution_count": 1,
   "metadata": {},
   "outputs": [],
   "source": [
    "import pandas as pd\n",
    "import numpy as np\n",
    "from IPython.display import display"
   ]
  },
  {
   "cell_type": "markdown",
   "metadata": {},
   "source": [
    "### Basic Dataframe Examination\n",
    "\n",
    "<font size=\"3\">Start off with a basic examination of the dataframes using `Pandas` standard EDA functions.</font>"
   ]
  },
  {
   "cell_type": "code",
   "execution_count": 2,
   "metadata": {},
   "outputs": [],
   "source": [
    "species = pd.read_csv('data/species_info.csv')\n",
    "observations = pd.read_csv('data/observations.csv')"
   ]
  },
  {
   "cell_type": "code",
   "execution_count": 3,
   "metadata": {},
   "outputs": [
    {
     "data": {
      "text/html": [
       "<div>\n",
       "<style scoped>\n",
       "    .dataframe tbody tr th:only-of-type {\n",
       "        vertical-align: middle;\n",
       "    }\n",
       "\n",
       "    .dataframe tbody tr th {\n",
       "        vertical-align: top;\n",
       "    }\n",
       "\n",
       "    .dataframe thead th {\n",
       "        text-align: right;\n",
       "    }\n",
       "</style>\n",
       "<table border=\"1\" class=\"dataframe\">\n",
       "  <thead>\n",
       "    <tr style=\"text-align: right;\">\n",
       "      <th></th>\n",
       "      <th>category</th>\n",
       "      <th>scientific_name</th>\n",
       "      <th>common_names</th>\n",
       "      <th>conservation_status</th>\n",
       "    </tr>\n",
       "  </thead>\n",
       "  <tbody>\n",
       "    <tr>\n",
       "      <th>0</th>\n",
       "      <td>Mammal</td>\n",
       "      <td>Clethrionomys gapperi gapperi</td>\n",
       "      <td>Gapper's Red-Backed Vole</td>\n",
       "      <td>NaN</td>\n",
       "    </tr>\n",
       "    <tr>\n",
       "      <th>1</th>\n",
       "      <td>Mammal</td>\n",
       "      <td>Bos bison</td>\n",
       "      <td>American Bison, Bison</td>\n",
       "      <td>NaN</td>\n",
       "    </tr>\n",
       "    <tr>\n",
       "      <th>2</th>\n",
       "      <td>Mammal</td>\n",
       "      <td>Bos taurus</td>\n",
       "      <td>Aurochs, Aurochs, Domestic Cattle (Feral), Dom...</td>\n",
       "      <td>NaN</td>\n",
       "    </tr>\n",
       "  </tbody>\n",
       "</table>\n",
       "</div>"
      ],
      "text/plain": [
       "  category                scientific_name  \\\n",
       "0   Mammal  Clethrionomys gapperi gapperi   \n",
       "1   Mammal                      Bos bison   \n",
       "2   Mammal                     Bos taurus   \n",
       "\n",
       "                                        common_names conservation_status  \n",
       "0                           Gapper's Red-Backed Vole                 NaN  \n",
       "1                              American Bison, Bison                 NaN  \n",
       "2  Aurochs, Aurochs, Domestic Cattle (Feral), Dom...                 NaN  "
      ]
     },
     "execution_count": 3,
     "metadata": {},
     "output_type": "execute_result"
    }
   ],
   "source": [
    "species.head(3)"
   ]
  },
  {
   "cell_type": "code",
   "execution_count": 4,
   "metadata": {},
   "outputs": [
    {
     "data": {
      "text/html": [
       "<div>\n",
       "<style scoped>\n",
       "    .dataframe tbody tr th:only-of-type {\n",
       "        vertical-align: middle;\n",
       "    }\n",
       "\n",
       "    .dataframe tbody tr th {\n",
       "        vertical-align: top;\n",
       "    }\n",
       "\n",
       "    .dataframe thead th {\n",
       "        text-align: right;\n",
       "    }\n",
       "</style>\n",
       "<table border=\"1\" class=\"dataframe\">\n",
       "  <thead>\n",
       "    <tr style=\"text-align: right;\">\n",
       "      <th></th>\n",
       "      <th>scientific_name</th>\n",
       "      <th>park_name</th>\n",
       "      <th>observations</th>\n",
       "    </tr>\n",
       "  </thead>\n",
       "  <tbody>\n",
       "    <tr>\n",
       "      <th>0</th>\n",
       "      <td>Vicia benghalensis</td>\n",
       "      <td>Great Smoky Mountains National Park</td>\n",
       "      <td>68</td>\n",
       "    </tr>\n",
       "    <tr>\n",
       "      <th>1</th>\n",
       "      <td>Neovison vison</td>\n",
       "      <td>Great Smoky Mountains National Park</td>\n",
       "      <td>77</td>\n",
       "    </tr>\n",
       "    <tr>\n",
       "      <th>2</th>\n",
       "      <td>Prunus subcordata</td>\n",
       "      <td>Yosemite National Park</td>\n",
       "      <td>138</td>\n",
       "    </tr>\n",
       "  </tbody>\n",
       "</table>\n",
       "</div>"
      ],
      "text/plain": [
       "      scientific_name                            park_name  observations\n",
       "0  Vicia benghalensis  Great Smoky Mountains National Park            68\n",
       "1      Neovison vison  Great Smoky Mountains National Park            77\n",
       "2   Prunus subcordata               Yosemite National Park           138"
      ]
     },
     "execution_count": 4,
     "metadata": {},
     "output_type": "execute_result"
    }
   ],
   "source": [
    "observations.head(3)"
   ]
  },
  {
   "cell_type": "code",
   "execution_count": 5,
   "metadata": {},
   "outputs": [
    {
     "data": {
      "text/plain": [
       "(5824, 4)"
      ]
     },
     "metadata": {},
     "output_type": "display_data"
    },
    {
     "data": {
      "text/plain": [
       "(23296, 3)"
      ]
     },
     "execution_count": 5,
     "metadata": {},
     "output_type": "execute_result"
    }
   ],
   "source": [
    "display(species.shape)\n",
    "observations.shape"
   ]
  },
  {
   "cell_type": "code",
   "execution_count": 6,
   "metadata": {},
   "outputs": [
    {
     "name": "stdout",
     "output_type": "stream",
     "text": [
      "<class 'pandas.core.frame.DataFrame'>\n",
      "RangeIndex: 5824 entries, 0 to 5823\n",
      "Data columns (total 4 columns):\n",
      " #   Column               Non-Null Count  Dtype \n",
      "---  ------               --------------  ----- \n",
      " 0   category             5824 non-null   object\n",
      " 1   scientific_name      5824 non-null   object\n",
      " 2   common_names         5824 non-null   object\n",
      " 3   conservation_status  191 non-null    object\n",
      "dtypes: object(4)\n",
      "memory usage: 182.1+ KB\n",
      "\n",
      "<class 'pandas.core.frame.DataFrame'>\n",
      "RangeIndex: 23296 entries, 0 to 23295\n",
      "Data columns (total 3 columns):\n",
      " #   Column           Non-Null Count  Dtype \n",
      "---  ------           --------------  ----- \n",
      " 0   scientific_name  23296 non-null  object\n",
      " 1   park_name        23296 non-null  object\n",
      " 2   observations     23296 non-null  int64 \n",
      "dtypes: int64(1), object(2)\n",
      "memory usage: 546.1+ KB\n"
     ]
    }
   ],
   "source": [
    "species.info()\n",
    "print()\n",
    "observations.info()"
   ]
  },
  {
   "cell_type": "markdown",
   "metadata": {},
   "source": [
    "<font size=\"3\">There are only null values in the species dataframe are under the column conservation status. Some more familiarization of the species data set would be helpful before making decision on the null values.<font size=\"3\">"
   ]
  },
  {
   "cell_type": "code",
   "execution_count": 7,
   "metadata": {},
   "outputs": [
    {
     "data": {
      "text/plain": [
       "NaN                   5633\n",
       "Species of Concern     161\n",
       "Endangered              16\n",
       "Threatened              10\n",
       "In Recovery              4\n",
       "Name: conservation_status, dtype: int64"
      ]
     },
     "execution_count": 7,
     "metadata": {},
     "output_type": "execute_result"
    }
   ],
   "source": [
    "# species.conservation_status.value_counts()\n",
    "con_status_counts = species.conservation_status.value_counts(dropna=False)\n",
    "con_status_counts"
   ]
  },
  {
   "cell_type": "code",
   "execution_count": 8,
   "metadata": {},
   "outputs": [
    {
     "data": {
      "text/plain": [
       "0.03279532967032967"
      ]
     },
     "metadata": {},
     "output_type": "display_data"
    },
    {
     "data": {
      "text/plain": [
       "0.9672046703296703"
      ]
     },
     "execution_count": 8,
     "metadata": {},
     "output_type": "execute_result"
    }
   ],
   "source": [
    "display(con_status_counts[1:].sum()/species.shape[0])\n",
    "con_status_counts[0]/species.shape[0]"
   ]
  },
  {
   "cell_type": "markdown",
   "metadata": {},
   "source": [
    "<font size=\"3\">Only 3% of the data set contains various conservation statuses while 97% are NaN values. My initial guess is that these species are `not in danger` and are experiencing healthy numbers.<br><br>Let's do a little more investigation before making this conclusion.</font>"
   ]
  },
  {
   "cell_type": "code",
   "execution_count": 9,
   "metadata": {},
   "outputs": [
    {
     "data": {
      "text/plain": [
       "Vascular Plant       4470\n",
       "Bird                  521\n",
       "Nonvascular Plant     333\n",
       "Mammal                214\n",
       "Fish                  127\n",
       "Amphibian              80\n",
       "Reptile                79\n",
       "Name: category, dtype: int64"
      ]
     },
     "execution_count": 9,
     "metadata": {},
     "output_type": "execute_result"
    }
   ],
   "source": [
    "species.category.value_counts()"
   ]
  },
  {
   "cell_type": "markdown",
   "metadata": {},
   "source": [
    "<font size=\"3\">Plants make up the vast majority of the species while the rest of the species are animals from various classes.</font>"
   ]
  },
  {
   "cell_type": "code",
   "execution_count": 10,
   "metadata": {},
   "outputs": [
    {
     "data": {
      "text/plain": [
       "5541"
      ]
     },
     "metadata": {},
     "output_type": "display_data"
    },
    {
     "data": {
      "text/plain": [
       "5541"
      ]
     },
     "metadata": {},
     "output_type": "display_data"
    },
    {
     "data": {
      "text/plain": [
       "5504"
      ]
     },
     "execution_count": 10,
     "metadata": {},
     "output_type": "execute_result"
    }
   ],
   "source": [
    "display(species.scientific_name.nunique())\n",
    "display(observations.scientific_name.nunique()) \n",
    "species.common_names.nunique()"
   ]
  },
  {
   "cell_type": "markdown",
   "metadata": {},
   "source": [
    "<font size=\"3\">The dataframe observations only contains the scientific name and not the common name. There are 37 less total number of common names compared to scientific names, indicating that some species may share a common name. There are 5824 total rows in the data frame indicating 283 possible duplicates in the species scientific names.<br><br>The observations data frame also contains 5541 unique scientific names. To make sure all species are included in both, a check is performed to see if the unique names from both data sets are equal.</font>"
   ]
  },
  {
   "cell_type": "code",
   "execution_count": 11,
   "metadata": {},
   "outputs": [
    {
     "data": {
      "text/plain": [
       "True"
      ]
     },
     "execution_count": 11,
     "metadata": {},
     "output_type": "execute_result"
    }
   ],
   "source": [
    "# Casting the list to a set could also be used here\n",
    "sorted(observations.scientific_name.unique()) == sorted(species.scientific_name.unique())"
   ]
  },
  {
   "cell_type": "markdown",
   "metadata": {},
   "source": [
    "<font size=\"3\">This indicates that all unqiue species are contained in both. Considering the fact that the vast majority of species have **NaN** for conservation status, and no species scientific names are missing in the observation data, it is safe to say that since all the animals and plants in the species data are being observed, that a missing conservation status means that the species is not under any threat.<br><br>Thus, the null values will be changed to a new category *\"`not in danger`\"* after some other analysis.<br><br> Null Values will be treated as a species not under conservation watch.</font>"
   ]
  },
  {
   "cell_type": "code",
   "execution_count": 12,
   "metadata": {},
   "outputs": [],
   "source": [
    "# species.conservation_status.isna().sum()"
   ]
  },
  {
   "cell_type": "code",
   "execution_count": 13,
   "metadata": {},
   "outputs": [],
   "source": [
    "# species.fillna('`not in danger`', inplace=True)\n",
    "# species"
   ]
  },
  {
   "cell_type": "code",
   "execution_count": 14,
   "metadata": {},
   "outputs": [
    {
     "data": {
      "text/plain": [
       "191"
      ]
     },
     "execution_count": 14,
     "metadata": {},
     "output_type": "execute_result"
    }
   ],
   "source": [
    "species.conservation_status.value_counts().sum()"
   ]
  },
  {
   "cell_type": "markdown",
   "metadata": {},
   "source": [
    "<font size=\"3\">From looking at the value count, we know there are only 191 species have some kind of conservation status. For the sake of this analysis, I will consider this group with some negative conservation status as *`Under Watch`* or *`In Danger`*. This will be how I refer to these species.<br><br>\n",
    "Let's look at the percentage of each species under watch based on their Class (or category in the data)</font>"
   ]
  },
  {
   "cell_type": "code",
   "execution_count": 15,
   "metadata": {},
   "outputs": [],
   "source": [
    "cat_counts =species.category.value_counts().to_dict()"
   ]
  },
  {
   "cell_type": "code",
   "execution_count": 16,
   "metadata": {},
   "outputs": [
    {
     "data": {
      "text/html": [
       "<div>\n",
       "<style scoped>\n",
       "    .dataframe tbody tr th:only-of-type {\n",
       "        vertical-align: middle;\n",
       "    }\n",
       "\n",
       "    .dataframe tbody tr th {\n",
       "        vertical-align: top;\n",
       "    }\n",
       "\n",
       "    .dataframe thead th {\n",
       "        text-align: right;\n",
       "    }\n",
       "</style>\n",
       "<table border=\"1\" class=\"dataframe\">\n",
       "  <thead>\n",
       "    <tr style=\"text-align: right;\">\n",
       "      <th></th>\n",
       "      <th>category</th>\n",
       "      <th>conservation_status</th>\n",
       "      <th>scientific_name</th>\n",
       "      <th>percentage</th>\n",
       "    </tr>\n",
       "  </thead>\n",
       "  <tbody>\n",
       "    <tr>\n",
       "      <th>5</th>\n",
       "      <td>Bird</td>\n",
       "      <td>Species of Concern</td>\n",
       "      <td>72</td>\n",
       "      <td>0.138196</td>\n",
       "    </tr>\n",
       "    <tr>\n",
       "      <th>11</th>\n",
       "      <td>Mammal</td>\n",
       "      <td>Species of Concern</td>\n",
       "      <td>28</td>\n",
       "      <td>0.130841</td>\n",
       "    </tr>\n",
       "    <tr>\n",
       "      <th>14</th>\n",
       "      <td>Reptile</td>\n",
       "      <td>Species of Concern</td>\n",
       "      <td>5</td>\n",
       "      <td>0.063291</td>\n",
       "    </tr>\n",
       "    <tr>\n",
       "      <th>1</th>\n",
       "      <td>Amphibian</td>\n",
       "      <td>Species of Concern</td>\n",
       "      <td>4</td>\n",
       "      <td>0.050000</td>\n",
       "    </tr>\n",
       "    <tr>\n",
       "      <th>9</th>\n",
       "      <td>Mammal</td>\n",
       "      <td>Endangered</td>\n",
       "      <td>7</td>\n",
       "      <td>0.032710</td>\n",
       "    </tr>\n",
       "    <tr>\n",
       "      <th>7</th>\n",
       "      <td>Fish</td>\n",
       "      <td>Species of Concern</td>\n",
       "      <td>4</td>\n",
       "      <td>0.031496</td>\n",
       "    </tr>\n",
       "    <tr>\n",
       "      <th>8</th>\n",
       "      <td>Fish</td>\n",
       "      <td>Threatened</td>\n",
       "      <td>4</td>\n",
       "      <td>0.031496</td>\n",
       "    </tr>\n",
       "    <tr>\n",
       "      <th>2</th>\n",
       "      <td>Amphibian</td>\n",
       "      <td>Threatened</td>\n",
       "      <td>2</td>\n",
       "      <td>0.025000</td>\n",
       "    </tr>\n",
       "    <tr>\n",
       "      <th>6</th>\n",
       "      <td>Fish</td>\n",
       "      <td>Endangered</td>\n",
       "      <td>3</td>\n",
       "      <td>0.023622</td>\n",
       "    </tr>\n",
       "    <tr>\n",
       "      <th>13</th>\n",
       "      <td>Nonvascular Plant</td>\n",
       "      <td>Species of Concern</td>\n",
       "      <td>5</td>\n",
       "      <td>0.015015</td>\n",
       "    </tr>\n",
       "    <tr>\n",
       "      <th>0</th>\n",
       "      <td>Amphibian</td>\n",
       "      <td>Endangered</td>\n",
       "      <td>1</td>\n",
       "      <td>0.012500</td>\n",
       "    </tr>\n",
       "    <tr>\n",
       "      <th>16</th>\n",
       "      <td>Vascular Plant</td>\n",
       "      <td>Species of Concern</td>\n",
       "      <td>43</td>\n",
       "      <td>0.009620</td>\n",
       "    </tr>\n",
       "    <tr>\n",
       "      <th>12</th>\n",
       "      <td>Mammal</td>\n",
       "      <td>Threatened</td>\n",
       "      <td>2</td>\n",
       "      <td>0.009346</td>\n",
       "    </tr>\n",
       "    <tr>\n",
       "      <th>3</th>\n",
       "      <td>Bird</td>\n",
       "      <td>Endangered</td>\n",
       "      <td>4</td>\n",
       "      <td>0.007678</td>\n",
       "    </tr>\n",
       "    <tr>\n",
       "      <th>4</th>\n",
       "      <td>Bird</td>\n",
       "      <td>In Recovery</td>\n",
       "      <td>3</td>\n",
       "      <td>0.005758</td>\n",
       "    </tr>\n",
       "    <tr>\n",
       "      <th>10</th>\n",
       "      <td>Mammal</td>\n",
       "      <td>In Recovery</td>\n",
       "      <td>1</td>\n",
       "      <td>0.004673</td>\n",
       "    </tr>\n",
       "    <tr>\n",
       "      <th>17</th>\n",
       "      <td>Vascular Plant</td>\n",
       "      <td>Threatened</td>\n",
       "      <td>2</td>\n",
       "      <td>0.000447</td>\n",
       "    </tr>\n",
       "    <tr>\n",
       "      <th>15</th>\n",
       "      <td>Vascular Plant</td>\n",
       "      <td>Endangered</td>\n",
       "      <td>1</td>\n",
       "      <td>0.000224</td>\n",
       "    </tr>\n",
       "  </tbody>\n",
       "</table>\n",
       "</div>"
      ],
      "text/plain": [
       "             category conservation_status  scientific_name  percentage\n",
       "5                Bird  Species of Concern               72    0.138196\n",
       "11             Mammal  Species of Concern               28    0.130841\n",
       "14            Reptile  Species of Concern                5    0.063291\n",
       "1           Amphibian  Species of Concern                4    0.050000\n",
       "9              Mammal          Endangered                7    0.032710\n",
       "7                Fish  Species of Concern                4    0.031496\n",
       "8                Fish          Threatened                4    0.031496\n",
       "2           Amphibian          Threatened                2    0.025000\n",
       "6                Fish          Endangered                3    0.023622\n",
       "13  Nonvascular Plant  Species of Concern                5    0.015015\n",
       "0           Amphibian          Endangered                1    0.012500\n",
       "16     Vascular Plant  Species of Concern               43    0.009620\n",
       "12             Mammal          Threatened                2    0.009346\n",
       "3                Bird          Endangered                4    0.007678\n",
       "4                Bird         In Recovery                3    0.005758\n",
       "10             Mammal         In Recovery                1    0.004673\n",
       "17     Vascular Plant          Threatened                2    0.000447\n",
       "15     Vascular Plant          Endangered                1    0.000224"
      ]
     },
     "execution_count": 16,
     "metadata": {},
     "output_type": "execute_result"
    }
   ],
   "source": [
    "cat_counts =species.category.value_counts().to_dict()\n",
    "under_watch = species.groupby(['category', 'conservation_status'])['scientific_name'].count().reset_index()\n",
    "# could use a lambda function here\n",
    "def percentages(row):\n",
    "    return row['scientific_name']/cat_counts[row['category']]\n",
    "under_watch['percentage'] = under_watch.apply(percentages, axis=1)\n",
    "under_watch.sort_values(by='percentage', ascending=False)"
   ]
  },
  {
   "cell_type": "markdown",
   "metadata": {},
   "source": [
    "<font size=\"3\">It is clear from the chart that most species are `not in danger`. Of those that are, birds and mammals have about 13% as `species of concern`. Other statuses and classes of species are at 6% total or less. The other numbers are low, especially with plants where only around 1.5% of species are of concern or worse. \n",
    "<br><br>\n",
    "Let's move on to investigate duplicate entries.</font>"
   ]
  },
  {
   "cell_type": "code",
   "execution_count": 17,
   "metadata": {},
   "outputs": [
    {
     "data": {
      "text/plain": [
       "0"
      ]
     },
     "execution_count": 17,
     "metadata": {},
     "output_type": "execute_result"
    }
   ],
   "source": [
    "species.duplicated().sum()"
   ]
  },
  {
   "cell_type": "markdown",
   "metadata": {},
   "source": [
    "<font size=\"3\">There are no complete duplicate rows indicating that any duplication is coming from the scientific name or common name only, as per our counts earlier. I suspect there are different common names for some species and some scientific names that are duplicated. \n",
    "<br><br>\n",
    "Let's take a look at how many there are of each.</font>"
   ]
  },
  {
   "cell_type": "code",
   "execution_count": 18,
   "metadata": {},
   "outputs": [
    {
     "data": {
      "text/plain": [
       "(283, 320)"
      ]
     },
     "execution_count": 18,
     "metadata": {},
     "output_type": "execute_result"
    }
   ],
   "source": [
    "species.duplicated(subset=['scientific_name']).sum(), species.duplicated(subset=['common_names']).sum()"
   ]
  },
  {
   "cell_type": "markdown",
   "metadata": {},
   "source": [
    "<font size=\"3\">Let's see which share both scientific and common names</font>"
   ]
  },
  {
   "cell_type": "code",
   "execution_count": 19,
   "metadata": {},
   "outputs": [
    {
     "data": {
      "text/html": [
       "<div>\n",
       "<style scoped>\n",
       "    .dataframe tbody tr th:only-of-type {\n",
       "        vertical-align: middle;\n",
       "    }\n",
       "\n",
       "    .dataframe tbody tr th {\n",
       "        vertical-align: top;\n",
       "    }\n",
       "\n",
       "    .dataframe thead th {\n",
       "        text-align: right;\n",
       "    }\n",
       "</style>\n",
       "<table border=\"1\" class=\"dataframe\">\n",
       "  <thead>\n",
       "    <tr style=\"text-align: right;\">\n",
       "      <th></th>\n",
       "      <th>category</th>\n",
       "      <th>scientific_name</th>\n",
       "      <th>common_names</th>\n",
       "      <th>conservation_status</th>\n",
       "    </tr>\n",
       "  </thead>\n",
       "  <tbody>\n",
       "    <tr>\n",
       "      <th>3020</th>\n",
       "      <td>Mammal</td>\n",
       "      <td>Canis lupus</td>\n",
       "      <td>Gray Wolf, Wolf</td>\n",
       "      <td>In Recovery</td>\n",
       "    </tr>\n",
       "    <tr>\n",
       "      <th>4448</th>\n",
       "      <td>Mammal</td>\n",
       "      <td>Canis lupus</td>\n",
       "      <td>Gray Wolf, Wolf</td>\n",
       "      <td>Endangered</td>\n",
       "    </tr>\n",
       "    <tr>\n",
       "      <th>560</th>\n",
       "      <td>Fish</td>\n",
       "      <td>Oncorhynchus mykiss</td>\n",
       "      <td>Rainbow Trout</td>\n",
       "      <td>NaN</td>\n",
       "    </tr>\n",
       "    <tr>\n",
       "      <th>3283</th>\n",
       "      <td>Fish</td>\n",
       "      <td>Oncorhynchus mykiss</td>\n",
       "      <td>Rainbow Trout</td>\n",
       "      <td>Threatened</td>\n",
       "    </tr>\n",
       "  </tbody>\n",
       "</table>\n",
       "</div>"
      ],
      "text/plain": [
       "     category      scientific_name     common_names conservation_status\n",
       "3020   Mammal          Canis lupus  Gray Wolf, Wolf         In Recovery\n",
       "4448   Mammal          Canis lupus  Gray Wolf, Wolf          Endangered\n",
       "560      Fish  Oncorhynchus mykiss    Rainbow Trout                 NaN\n",
       "3283     Fish  Oncorhynchus mykiss    Rainbow Trout          Threatened"
      ]
     },
     "execution_count": 19,
     "metadata": {},
     "output_type": "execute_result"
    }
   ],
   "source": [
    "species[species.duplicated(subset=['scientific_name','common_names'], keep=False)].sort_values(by='common_names')"
   ]
  },
  {
   "cell_type": "markdown",
   "metadata": {},
   "source": [
    "<font size=\"3\">Only two species, Canis lupus and Oncorhynchus mykiss, which I will refer in the future by the common names, have shared scientific and common names. In addition, they also have mixed statuses. I will come back and look in more detail at these two particular species<br><br>\n",
    "Let's look next at species with duplicated common names first to see their conservation status.</font>"
   ]
  },
  {
   "cell_type": "code",
   "execution_count": 20,
   "metadata": {},
   "outputs": [
    {
     "data": {
      "text/html": [
       "<div>\n",
       "<style scoped>\n",
       "    .dataframe tbody tr th:only-of-type {\n",
       "        vertical-align: middle;\n",
       "    }\n",
       "\n",
       "    .dataframe tbody tr th {\n",
       "        vertical-align: top;\n",
       "    }\n",
       "\n",
       "    .dataframe thead th {\n",
       "        text-align: right;\n",
       "    }\n",
       "</style>\n",
       "<table border=\"1\" class=\"dataframe\">\n",
       "  <thead>\n",
       "    <tr style=\"text-align: right;\">\n",
       "      <th></th>\n",
       "      <th>category</th>\n",
       "      <th>scientific_name</th>\n",
       "      <th>common_names</th>\n",
       "      <th>conservation_status</th>\n",
       "    </tr>\n",
       "  </thead>\n",
       "  <tbody>\n",
       "    <tr>\n",
       "      <th>2730</th>\n",
       "      <td>Nonvascular Plant</td>\n",
       "      <td>Dichodontium pellucidum</td>\n",
       "      <td>A Moss</td>\n",
       "      <td>NaN</td>\n",
       "    </tr>\n",
       "    <tr>\n",
       "      <th>2822</th>\n",
       "      <td>Nonvascular Plant</td>\n",
       "      <td>Cirriphyllum piliferum</td>\n",
       "      <td>A Moss</td>\n",
       "      <td>NaN</td>\n",
       "    </tr>\n",
       "    <tr>\n",
       "      <th>2022</th>\n",
       "      <td>Vascular Plant</td>\n",
       "      <td>Carex normalis</td>\n",
       "      <td>A Sedge, Sedge</td>\n",
       "      <td>NaN</td>\n",
       "    </tr>\n",
       "    <tr>\n",
       "      <th>1971</th>\n",
       "      <td>Vascular Plant</td>\n",
       "      <td>Carex bromoides</td>\n",
       "      <td>A Sedge, Sedge</td>\n",
       "      <td>NaN</td>\n",
       "    </tr>\n",
       "    <tr>\n",
       "      <th>1960</th>\n",
       "      <td>Vascular Plant</td>\n",
       "      <td>Carex annectens</td>\n",
       "      <td>A Sedge, Sedge</td>\n",
       "      <td>NaN</td>\n",
       "    </tr>\n",
       "    <tr>\n",
       "      <th>...</th>\n",
       "      <td>...</td>\n",
       "      <td>...</td>\n",
       "      <td>...</td>\n",
       "      <td>...</td>\n",
       "    </tr>\n",
       "    <tr>\n",
       "      <th>250</th>\n",
       "      <td>Bird</td>\n",
       "      <td>Dendroica coronata</td>\n",
       "      <td>Yellow-Rumped Warbler</td>\n",
       "      <td>NaN</td>\n",
       "    </tr>\n",
       "    <tr>\n",
       "      <th>252</th>\n",
       "      <td>Bird</td>\n",
       "      <td>Dendroica dominica</td>\n",
       "      <td>Yellow-Throated Warbler</td>\n",
       "      <td>NaN</td>\n",
       "    </tr>\n",
       "    <tr>\n",
       "      <th>3206</th>\n",
       "      <td>Bird</td>\n",
       "      <td>Setophaga dominica</td>\n",
       "      <td>Yellow-Throated Warbler</td>\n",
       "      <td>NaN</td>\n",
       "    </tr>\n",
       "    <tr>\n",
       "      <th>2957</th>\n",
       "      <td>Nonvascular Plant</td>\n",
       "      <td>Zygodon viridissimus var. rupestris</td>\n",
       "      <td>Zygodon Moss</td>\n",
       "      <td>NaN</td>\n",
       "    </tr>\n",
       "    <tr>\n",
       "      <th>2956</th>\n",
       "      <td>Nonvascular Plant</td>\n",
       "      <td>Zygodon viridissimus</td>\n",
       "      <td>Zygodon Moss</td>\n",
       "      <td>NaN</td>\n",
       "    </tr>\n",
       "  </tbody>\n",
       "</table>\n",
       "<p>568 rows × 4 columns</p>\n",
       "</div>"
      ],
      "text/plain": [
       "               category                      scientific_name  \\\n",
       "2730  Nonvascular Plant              Dichodontium pellucidum   \n",
       "2822  Nonvascular Plant               Cirriphyllum piliferum   \n",
       "2022     Vascular Plant                       Carex normalis   \n",
       "1971     Vascular Plant                      Carex bromoides   \n",
       "1960     Vascular Plant                      Carex annectens   \n",
       "...                 ...                                  ...   \n",
       "250                Bird                   Dendroica coronata   \n",
       "252                Bird                   Dendroica dominica   \n",
       "3206               Bird                   Setophaga dominica   \n",
       "2957  Nonvascular Plant  Zygodon viridissimus var. rupestris   \n",
       "2956  Nonvascular Plant                 Zygodon viridissimus   \n",
       "\n",
       "                 common_names conservation_status  \n",
       "2730                   A Moss                 NaN  \n",
       "2822                   A Moss                 NaN  \n",
       "2022           A Sedge, Sedge                 NaN  \n",
       "1971           A Sedge, Sedge                 NaN  \n",
       "1960           A Sedge, Sedge                 NaN  \n",
       "...                       ...                 ...  \n",
       "250     Yellow-Rumped Warbler                 NaN  \n",
       "252   Yellow-Throated Warbler                 NaN  \n",
       "3206  Yellow-Throated Warbler                 NaN  \n",
       "2957             Zygodon Moss                 NaN  \n",
       "2956             Zygodon Moss                 NaN  \n",
       "\n",
       "[568 rows x 4 columns]"
      ]
     },
     "execution_count": 20,
     "metadata": {},
     "output_type": "execute_result"
    }
   ],
   "source": [
    "# pd.set_option('display.max_rows', 30)\n",
    "duplicated_common_names = species[species.duplicated(subset=['common_names'], keep=False)]\n",
    "duplicated_common_names.sort_values(by='common_names')#[~duplicated_common_names.conservation_status.isna()]"
   ]
  },
  {
   "cell_type": "code",
   "execution_count": 21,
   "metadata": {},
   "outputs": [
    {
     "data": {
      "text/plain": [
       "NaN                   556\n",
       "Species of Concern      9\n",
       "In Recovery             1\n",
       "Threatened              1\n",
       "Endangered              1\n",
       "Name: conservation_status, dtype: int64"
      ]
     },
     "execution_count": 21,
     "metadata": {},
     "output_type": "execute_result"
    }
   ],
   "source": [
    "duplicated_common_names.conservation_status.value_counts(dropna=False)"
   ]
  },
  {
   "cell_type": "markdown",
   "metadata": {},
   "source": [
    "<font size=\"3\">The majority of the duplicated species are `not in danger`. Below, I will create a list of those species who are under watch and investigate if any have mixed statuses like the gray wolf or rainbow trout.</font>"
   ]
  },
  {
   "cell_type": "code",
   "execution_count": 22,
   "metadata": {},
   "outputs": [
    {
     "data": {
      "text/html": [
       "<div>\n",
       "<style scoped>\n",
       "    .dataframe tbody tr th:only-of-type {\n",
       "        vertical-align: middle;\n",
       "    }\n",
       "\n",
       "    .dataframe tbody tr th {\n",
       "        vertical-align: top;\n",
       "    }\n",
       "\n",
       "    .dataframe thead th {\n",
       "        text-align: right;\n",
       "    }\n",
       "</style>\n",
       "<table border=\"1\" class=\"dataframe\">\n",
       "  <thead>\n",
       "    <tr style=\"text-align: right;\">\n",
       "      <th></th>\n",
       "      <th>category</th>\n",
       "      <th>scientific_name</th>\n",
       "      <th>common_names</th>\n",
       "      <th>conservation_status</th>\n",
       "    </tr>\n",
       "  </thead>\n",
       "  <tbody>\n",
       "    <tr>\n",
       "      <th>2929</th>\n",
       "      <td>Nonvascular Plant</td>\n",
       "      <td>Bazzania nudicaulis</td>\n",
       "      <td>Bazzania</td>\n",
       "      <td>Species of Concern</td>\n",
       "    </tr>\n",
       "    <tr>\n",
       "      <th>185</th>\n",
       "      <td>Bird</td>\n",
       "      <td>Guiraca caerulea</td>\n",
       "      <td>Blue Grosbeak</td>\n",
       "      <td>Species of Concern</td>\n",
       "    </tr>\n",
       "    <tr>\n",
       "      <th>2292</th>\n",
       "      <td>Vascular Plant</td>\n",
       "      <td>Poa paludigena</td>\n",
       "      <td>Bog Bluegrass</td>\n",
       "      <td>Species of Concern</td>\n",
       "    </tr>\n",
       "    <tr>\n",
       "      <th>3102</th>\n",
       "      <td>Bird</td>\n",
       "      <td>Stellula calliope</td>\n",
       "      <td>Calliope Hummingbird</td>\n",
       "      <td>Species of Concern</td>\n",
       "    </tr>\n",
       "    <tr>\n",
       "      <th>3020</th>\n",
       "      <td>Mammal</td>\n",
       "      <td>Canis lupus</td>\n",
       "      <td>Gray Wolf, Wolf</td>\n",
       "      <td>In Recovery</td>\n",
       "    </tr>\n",
       "    <tr>\n",
       "      <th>4448</th>\n",
       "      <td>Mammal</td>\n",
       "      <td>Canis lupus</td>\n",
       "      <td>Gray Wolf, Wolf</td>\n",
       "      <td>Endangered</td>\n",
       "    </tr>\n",
       "    <tr>\n",
       "      <th>3288</th>\n",
       "      <td>Fish</td>\n",
       "      <td>Cottus bairdii</td>\n",
       "      <td>Mottled Sculpin</td>\n",
       "      <td>Species of Concern</td>\n",
       "    </tr>\n",
       "    <tr>\n",
       "      <th>284</th>\n",
       "      <td>Bird</td>\n",
       "      <td>Vermivora ruficapilla</td>\n",
       "      <td>Nashville Warbler</td>\n",
       "      <td>Species of Concern</td>\n",
       "    </tr>\n",
       "    <tr>\n",
       "      <th>310</th>\n",
       "      <td>Bird</td>\n",
       "      <td>Contopus cooperi</td>\n",
       "      <td>Olive-Sided Flycatcher</td>\n",
       "      <td>Species of Concern</td>\n",
       "    </tr>\n",
       "    <tr>\n",
       "      <th>3283</th>\n",
       "      <td>Fish</td>\n",
       "      <td>Oncorhynchus mykiss</td>\n",
       "      <td>Rainbow Trout</td>\n",
       "      <td>Threatened</td>\n",
       "    </tr>\n",
       "    <tr>\n",
       "      <th>4879</th>\n",
       "      <td>Vascular Plant</td>\n",
       "      <td>Plagiobothrys torreyi var. diffusus</td>\n",
       "      <td>Torrey's Popcornflower</td>\n",
       "      <td>Species of Concern</td>\n",
       "    </tr>\n",
       "    <tr>\n",
       "      <th>287</th>\n",
       "      <td>Bird</td>\n",
       "      <td>Wilsonia pusilla</td>\n",
       "      <td>Wilson's Warbler</td>\n",
       "      <td>Species of Concern</td>\n",
       "    </tr>\n",
       "  </tbody>\n",
       "</table>\n",
       "</div>"
      ],
      "text/plain": [
       "               category                      scientific_name  \\\n",
       "2929  Nonvascular Plant                  Bazzania nudicaulis   \n",
       "185                Bird                     Guiraca caerulea   \n",
       "2292     Vascular Plant                       Poa paludigena   \n",
       "3102               Bird                    Stellula calliope   \n",
       "3020             Mammal                          Canis lupus   \n",
       "4448             Mammal                          Canis lupus   \n",
       "3288               Fish                       Cottus bairdii   \n",
       "284                Bird                Vermivora ruficapilla   \n",
       "310                Bird                     Contopus cooperi   \n",
       "3283               Fish                  Oncorhynchus mykiss   \n",
       "4879     Vascular Plant  Plagiobothrys torreyi var. diffusus   \n",
       "287                Bird                     Wilsonia pusilla   \n",
       "\n",
       "                common_names conservation_status  \n",
       "2929                Bazzania  Species of Concern  \n",
       "185            Blue Grosbeak  Species of Concern  \n",
       "2292           Bog Bluegrass  Species of Concern  \n",
       "3102    Calliope Hummingbird  Species of Concern  \n",
       "3020         Gray Wolf, Wolf         In Recovery  \n",
       "4448         Gray Wolf, Wolf          Endangered  \n",
       "3288         Mottled Sculpin  Species of Concern  \n",
       "284        Nashville Warbler  Species of Concern  \n",
       "310   Olive-Sided Flycatcher  Species of Concern  \n",
       "3283           Rainbow Trout          Threatened  \n",
       "4879  Torrey's Popcornflower  Species of Concern  \n",
       "287         Wilson's Warbler  Species of Concern  "
      ]
     },
     "metadata": {},
     "output_type": "display_data"
    },
    {
     "data": {
      "text/plain": [
       "12"
      ]
     },
     "execution_count": 22,
     "metadata": {},
     "output_type": "execute_result"
    }
   ],
   "source": [
    "display(duplicated_common_names[~duplicated_common_names.conservation_status.isna()].sort_values(by='common_names'))\n",
    "duplicated_common_names[~duplicated_common_names.conservation_status.isna()].sort_values(by='common_names').shape[0]"
   ]
  },
  {
   "cell_type": "markdown",
   "metadata": {},
   "source": [
    "<font size=\"3\">Only the two animals from before have statuses that are not `species of concern` and have duplicated common name. They also share the same species name. I can use this information to confirm that the other dupclicated common name species have mixed status with _``not in danger``_. <br><br>The gray wolf is included twice, so there should be 9 of them.</font>"
   ]
  },
  {
   "cell_type": "code",
   "execution_count": 23,
   "metadata": {},
   "outputs": [
    {
     "data": {
      "text/plain": [
       "9"
      ]
     },
     "metadata": {},
     "output_type": "display_data"
    },
    {
     "data": {
      "text/html": [
       "<div>\n",
       "<style scoped>\n",
       "    .dataframe tbody tr th:only-of-type {\n",
       "        vertical-align: middle;\n",
       "    }\n",
       "\n",
       "    .dataframe tbody tr th {\n",
       "        vertical-align: top;\n",
       "    }\n",
       "\n",
       "    .dataframe thead th {\n",
       "        text-align: right;\n",
       "    }\n",
       "</style>\n",
       "<table border=\"1\" class=\"dataframe\">\n",
       "  <thead>\n",
       "    <tr style=\"text-align: right;\">\n",
       "      <th></th>\n",
       "      <th>category</th>\n",
       "      <th>scientific_name</th>\n",
       "      <th>common_names</th>\n",
       "      <th>conservation_status</th>\n",
       "    </tr>\n",
       "  </thead>\n",
       "  <tbody>\n",
       "    <tr>\n",
       "      <th>2930</th>\n",
       "      <td>Nonvascular Plant</td>\n",
       "      <td>Bazzania tricrenata</td>\n",
       "      <td>Bazzania</td>\n",
       "      <td>NaN</td>\n",
       "    </tr>\n",
       "    <tr>\n",
       "      <th>2929</th>\n",
       "      <td>Nonvascular Plant</td>\n",
       "      <td>Bazzania nudicaulis</td>\n",
       "      <td>Bazzania</td>\n",
       "      <td>Species of Concern</td>\n",
       "    </tr>\n",
       "    <tr>\n",
       "      <th>2928</th>\n",
       "      <td>Nonvascular Plant</td>\n",
       "      <td>Bazzania denudata</td>\n",
       "      <td>Bazzania</td>\n",
       "      <td>NaN</td>\n",
       "    </tr>\n",
       "    <tr>\n",
       "      <th>4525</th>\n",
       "      <td>Bird</td>\n",
       "      <td>Passerina caerulea</td>\n",
       "      <td>Blue Grosbeak</td>\n",
       "      <td>NaN</td>\n",
       "    </tr>\n",
       "    <tr>\n",
       "      <th>185</th>\n",
       "      <td>Bird</td>\n",
       "      <td>Guiraca caerulea</td>\n",
       "      <td>Blue Grosbeak</td>\n",
       "      <td>Species of Concern</td>\n",
       "    </tr>\n",
       "    <tr>\n",
       "      <th>2292</th>\n",
       "      <td>Vascular Plant</td>\n",
       "      <td>Poa paludigena</td>\n",
       "      <td>Bog Bluegrass</td>\n",
       "      <td>Species of Concern</td>\n",
       "    </tr>\n",
       "    <tr>\n",
       "      <th>5628</th>\n",
       "      <td>Vascular Plant</td>\n",
       "      <td>Poa leptocoma ssp. leptocoma</td>\n",
       "      <td>Bog Bluegrass</td>\n",
       "      <td>NaN</td>\n",
       "    </tr>\n",
       "    <tr>\n",
       "      <th>3102</th>\n",
       "      <td>Bird</td>\n",
       "      <td>Stellula calliope</td>\n",
       "      <td>Calliope Hummingbird</td>\n",
       "      <td>Species of Concern</td>\n",
       "    </tr>\n",
       "    <tr>\n",
       "      <th>4506</th>\n",
       "      <td>Bird</td>\n",
       "      <td>Selasphorus calliope</td>\n",
       "      <td>Calliope Hummingbird</td>\n",
       "      <td>NaN</td>\n",
       "    </tr>\n",
       "    <tr>\n",
       "      <th>563</th>\n",
       "      <td>Fish</td>\n",
       "      <td>Cottus bairdi</td>\n",
       "      <td>Mottled Sculpin</td>\n",
       "      <td>NaN</td>\n",
       "    </tr>\n",
       "    <tr>\n",
       "      <th>3288</th>\n",
       "      <td>Fish</td>\n",
       "      <td>Cottus bairdii</td>\n",
       "      <td>Mottled Sculpin</td>\n",
       "      <td>Species of Concern</td>\n",
       "    </tr>\n",
       "    <tr>\n",
       "      <th>3199</th>\n",
       "      <td>Bird</td>\n",
       "      <td>Oreothlypis ruficapilla</td>\n",
       "      <td>Nashville Warbler</td>\n",
       "      <td>NaN</td>\n",
       "    </tr>\n",
       "    <tr>\n",
       "      <th>284</th>\n",
       "      <td>Bird</td>\n",
       "      <td>Vermivora ruficapilla</td>\n",
       "      <td>Nashville Warbler</td>\n",
       "      <td>Species of Concern</td>\n",
       "    </tr>\n",
       "    <tr>\n",
       "      <th>309</th>\n",
       "      <td>Bird</td>\n",
       "      <td>Contopus borealis</td>\n",
       "      <td>Olive-Sided Flycatcher</td>\n",
       "      <td>NaN</td>\n",
       "    </tr>\n",
       "    <tr>\n",
       "      <th>310</th>\n",
       "      <td>Bird</td>\n",
       "      <td>Contopus cooperi</td>\n",
       "      <td>Olive-Sided Flycatcher</td>\n",
       "      <td>Species of Concern</td>\n",
       "    </tr>\n",
       "    <tr>\n",
       "      <th>4880</th>\n",
       "      <td>Vascular Plant</td>\n",
       "      <td>Plagiobothrys torreyi var. torreyi</td>\n",
       "      <td>Torrey's Popcornflower</td>\n",
       "      <td>NaN</td>\n",
       "    </tr>\n",
       "    <tr>\n",
       "      <th>4879</th>\n",
       "      <td>Vascular Plant</td>\n",
       "      <td>Plagiobothrys torreyi var. diffusus</td>\n",
       "      <td>Torrey's Popcornflower</td>\n",
       "      <td>Species of Concern</td>\n",
       "    </tr>\n",
       "    <tr>\n",
       "      <th>287</th>\n",
       "      <td>Bird</td>\n",
       "      <td>Wilsonia pusilla</td>\n",
       "      <td>Wilson's Warbler</td>\n",
       "      <td>Species of Concern</td>\n",
       "    </tr>\n",
       "    <tr>\n",
       "      <th>3196</th>\n",
       "      <td>Bird</td>\n",
       "      <td>Cardellina pusilla</td>\n",
       "      <td>Wilson's Warbler</td>\n",
       "      <td>NaN</td>\n",
       "    </tr>\n",
       "  </tbody>\n",
       "</table>\n",
       "</div>"
      ],
      "text/plain": [
       "               category                      scientific_name  \\\n",
       "2930  Nonvascular Plant                  Bazzania tricrenata   \n",
       "2929  Nonvascular Plant                  Bazzania nudicaulis   \n",
       "2928  Nonvascular Plant                    Bazzania denudata   \n",
       "4525               Bird                   Passerina caerulea   \n",
       "185                Bird                     Guiraca caerulea   \n",
       "2292     Vascular Plant                       Poa paludigena   \n",
       "5628     Vascular Plant         Poa leptocoma ssp. leptocoma   \n",
       "3102               Bird                    Stellula calliope   \n",
       "4506               Bird                 Selasphorus calliope   \n",
       "563                Fish                        Cottus bairdi   \n",
       "3288               Fish                       Cottus bairdii   \n",
       "3199               Bird              Oreothlypis ruficapilla   \n",
       "284                Bird                Vermivora ruficapilla   \n",
       "309                Bird                    Contopus borealis   \n",
       "310                Bird                     Contopus cooperi   \n",
       "4880     Vascular Plant   Plagiobothrys torreyi var. torreyi   \n",
       "4879     Vascular Plant  Plagiobothrys torreyi var. diffusus   \n",
       "287                Bird                     Wilsonia pusilla   \n",
       "3196               Bird                   Cardellina pusilla   \n",
       "\n",
       "                common_names conservation_status  \n",
       "2930                Bazzania                 NaN  \n",
       "2929                Bazzania  Species of Concern  \n",
       "2928                Bazzania                 NaN  \n",
       "4525           Blue Grosbeak                 NaN  \n",
       "185            Blue Grosbeak  Species of Concern  \n",
       "2292           Bog Bluegrass  Species of Concern  \n",
       "5628           Bog Bluegrass                 NaN  \n",
       "3102    Calliope Hummingbird  Species of Concern  \n",
       "4506    Calliope Hummingbird                 NaN  \n",
       "563          Mottled Sculpin                 NaN  \n",
       "3288         Mottled Sculpin  Species of Concern  \n",
       "3199       Nashville Warbler                 NaN  \n",
       "284        Nashville Warbler  Species of Concern  \n",
       "309   Olive-Sided Flycatcher                 NaN  \n",
       "310   Olive-Sided Flycatcher  Species of Concern  \n",
       "4880  Torrey's Popcornflower                 NaN  \n",
       "4879  Torrey's Popcornflower  Species of Concern  \n",
       "287         Wilson's Warbler  Species of Concern  \n",
       "3196        Wilson's Warbler                 NaN  "
      ]
     },
     "execution_count": 23,
     "metadata": {},
     "output_type": "execute_result"
    }
   ],
   "source": [
    "mask = duplicated_common_names.conservation_status == 'Species of Concern'\n",
    "spec_of_concern = duplicated_common_names[mask].common_names.to_list()\n",
    "display(len(spec_of_concern))\n",
    "duplicated_common_names[duplicated_common_names.common_names.isin(spec_of_concern)].sort_values(by='common_names')"
   ]
  },
  {
   "cell_type": "markdown",
   "metadata": {},
   "source": [
    "<font size=\"3\">The numbers add up. My initial suspicion appears to be the case. Some of these animals or plants with different common names are variations on a species. The ones that are both ``not in danger`` and `species of concern` are technically different species. Thus, for all extent and purposes, they are separate entities with there own unqiue scientific name and conservation status. Furthermore, the majority are `not in danger`, while 11 of them have different converstation statuses. All will be kept as seperate entities since the scientific names are different and none of them will be dropped from the data.<br><br>\n",
    "Next, let's look at the duplicated scientific names.</font>"
   ]
  },
  {
   "cell_type": "code",
   "execution_count": 24,
   "metadata": {
    "tags": []
   },
   "outputs": [
    {
     "data": {
      "text/html": [
       "<div>\n",
       "<style scoped>\n",
       "    .dataframe tbody tr th:only-of-type {\n",
       "        vertical-align: middle;\n",
       "    }\n",
       "\n",
       "    .dataframe tbody tr th {\n",
       "        vertical-align: top;\n",
       "    }\n",
       "\n",
       "    .dataframe thead th {\n",
       "        text-align: right;\n",
       "    }\n",
       "</style>\n",
       "<table border=\"1\" class=\"dataframe\">\n",
       "  <thead>\n",
       "    <tr style=\"text-align: right;\">\n",
       "      <th></th>\n",
       "      <th>category</th>\n",
       "      <th>scientific_name</th>\n",
       "      <th>common_names</th>\n",
       "      <th>conservation_status</th>\n",
       "    </tr>\n",
       "  </thead>\n",
       "  <tbody>\n",
       "    <tr>\n",
       "      <th>5553</th>\n",
       "      <td>Vascular Plant</td>\n",
       "      <td>Agrostis capillaris</td>\n",
       "      <td>Colonial Bent, Colonial Bentgrass</td>\n",
       "      <td>NaN</td>\n",
       "    </tr>\n",
       "    <tr>\n",
       "      <th>2132</th>\n",
       "      <td>Vascular Plant</td>\n",
       "      <td>Agrostis capillaris</td>\n",
       "      <td>Rhode Island Bent</td>\n",
       "      <td>NaN</td>\n",
       "    </tr>\n",
       "    <tr>\n",
       "      <th>2134</th>\n",
       "      <td>Vascular Plant</td>\n",
       "      <td>Agrostis gigantea</td>\n",
       "      <td>Redtop</td>\n",
       "      <td>NaN</td>\n",
       "    </tr>\n",
       "    <tr>\n",
       "      <th>5554</th>\n",
       "      <td>Vascular Plant</td>\n",
       "      <td>Agrostis gigantea</td>\n",
       "      <td>Black Bent, Redtop, Water Bentgrass</td>\n",
       "      <td>NaN</td>\n",
       "    </tr>\n",
       "    <tr>\n",
       "      <th>4178</th>\n",
       "      <td>Vascular Plant</td>\n",
       "      <td>Agrostis mertensii</td>\n",
       "      <td>Arctic Bentgrass, Northern Bentgrass</td>\n",
       "      <td>NaN</td>\n",
       "    </tr>\n",
       "    <tr>\n",
       "      <th>...</th>\n",
       "      <td>...</td>\n",
       "      <td>...</td>\n",
       "      <td>...</td>\n",
       "      <td>...</td>\n",
       "    </tr>\n",
       "    <tr>\n",
       "      <th>5643</th>\n",
       "      <td>Vascular Plant</td>\n",
       "      <td>Vulpia myuros</td>\n",
       "      <td>Foxtail Fescue, Rattail Fescue, Rat-Tail Fescu...</td>\n",
       "      <td>NaN</td>\n",
       "    </tr>\n",
       "    <tr>\n",
       "      <th>2331</th>\n",
       "      <td>Vascular Plant</td>\n",
       "      <td>Vulpia octoflora</td>\n",
       "      <td>Annual Fescue</td>\n",
       "      <td>NaN</td>\n",
       "    </tr>\n",
       "    <tr>\n",
       "      <th>4290</th>\n",
       "      <td>Vascular Plant</td>\n",
       "      <td>Vulpia octoflora</td>\n",
       "      <td>Eight-Flower Six-Weeks Grass, Pullout Grass, S...</td>\n",
       "      <td>NaN</td>\n",
       "    </tr>\n",
       "    <tr>\n",
       "      <th>3347</th>\n",
       "      <td>Vascular Plant</td>\n",
       "      <td>Zizia aptera</td>\n",
       "      <td>Heartleaf Alexanders, Heart-Leaf Alexanders, M...</td>\n",
       "      <td>NaN</td>\n",
       "    </tr>\n",
       "    <tr>\n",
       "      <th>632</th>\n",
       "      <td>Vascular Plant</td>\n",
       "      <td>Zizia aptera</td>\n",
       "      <td>Golden Alexanders</td>\n",
       "      <td>NaN</td>\n",
       "    </tr>\n",
       "  </tbody>\n",
       "</table>\n",
       "<p>557 rows × 4 columns</p>\n",
       "</div>"
      ],
      "text/plain": [
       "            category      scientific_name  \\\n",
       "5553  Vascular Plant  Agrostis capillaris   \n",
       "2132  Vascular Plant  Agrostis capillaris   \n",
       "2134  Vascular Plant    Agrostis gigantea   \n",
       "5554  Vascular Plant    Agrostis gigantea   \n",
       "4178  Vascular Plant   Agrostis mertensii   \n",
       "...              ...                  ...   \n",
       "5643  Vascular Plant        Vulpia myuros   \n",
       "2331  Vascular Plant     Vulpia octoflora   \n",
       "4290  Vascular Plant     Vulpia octoflora   \n",
       "3347  Vascular Plant         Zizia aptera   \n",
       "632   Vascular Plant         Zizia aptera   \n",
       "\n",
       "                                           common_names conservation_status  \n",
       "5553                  Colonial Bent, Colonial Bentgrass                 NaN  \n",
       "2132                                  Rhode Island Bent                 NaN  \n",
       "2134                                             Redtop                 NaN  \n",
       "5554                Black Bent, Redtop, Water Bentgrass                 NaN  \n",
       "4178               Arctic Bentgrass, Northern Bentgrass                 NaN  \n",
       "...                                                 ...                 ...  \n",
       "5643  Foxtail Fescue, Rattail Fescue, Rat-Tail Fescu...                 NaN  \n",
       "2331                                      Annual Fescue                 NaN  \n",
       "4290  Eight-Flower Six-Weeks Grass, Pullout Grass, S...                 NaN  \n",
       "3347  Heartleaf Alexanders, Heart-Leaf Alexanders, M...                 NaN  \n",
       "632                                   Golden Alexanders                 NaN  \n",
       "\n",
       "[557 rows x 4 columns]"
      ]
     },
     "execution_count": 24,
     "metadata": {},
     "output_type": "execute_result"
    }
   ],
   "source": [
    "duplicated_scientific_names = species[species.duplicated(subset=['scientific_name'], keep=False)].sort_values(by='scientific_name')\n",
    "duplicated_scientific_names"
   ]
  },
  {
   "cell_type": "code",
   "execution_count": 25,
   "metadata": {},
   "outputs": [
    {
     "data": {
      "text/plain": [
       "conservation_status\n",
       "NaN                    534\n",
       "Species of Concern      19\n",
       "Endangered               2\n",
       "In Recovery              1\n",
       "Threatened               1\n",
       "dtype: int64"
      ]
     },
     "metadata": {},
     "output_type": "display_data"
    },
    {
     "data": {
      "text/plain": [
       "23"
      ]
     },
     "execution_count": 25,
     "metadata": {},
     "output_type": "execute_result"
    }
   ],
   "source": [
    "display(duplicated_scientific_names[['conservation_status']].value_counts(dropna=False))\n",
    "duplicated_scientific_names[['conservation_status']].value_counts().sum()"
   ]
  },
  {
   "cell_type": "markdown",
   "metadata": {},
   "source": [
    "<font size=\"3\">Some species with duplicated scientific names are in the database twice because they have different common names with some having more than one common name with another. Like with common names, a majority of them are `not in danger`. It is possible that these should be considered as different entities since data collection might be occurring on different groups of these species or in different locations, but we are not sure yet. <br><br>\n",
    "Let's focus on that number 23. To start, we look at the conservation status of these species and counts to see if there are any that have more than 3 entries.</font>"
   ]
  },
  {
   "cell_type": "code",
   "execution_count": 26,
   "metadata": {},
   "outputs": [
    {
     "data": {
      "text/plain": [
       "23"
      ]
     },
     "metadata": {},
     "output_type": "display_data"
    },
    {
     "data": {
      "text/plain": [
       "conservation_status  scientific_name          \n",
       "Endangered           Canis lupus                  2\n",
       "In Recovery          Canis lupus                  1\n",
       "Species of Concern   Eptesicus fuscus             2\n",
       "                     Gavia immer                  2\n",
       "                     Lasionycteris noctivagans    2\n",
       "                     Myotis californicus          2\n",
       "                     Myotis lucifugus             3\n",
       "                     Nycticorax nycticorax        2\n",
       "                     Pandion haliaetus            2\n",
       "                     Riparia riparia              2\n",
       "                     Taxidea taxus                2\n",
       "Threatened           Oncorhynchus mykiss          1\n",
       "Name: common_names, dtype: int64"
      ]
     },
     "metadata": {},
     "output_type": "display_data"
    },
    {
     "name": "stdout",
     "output_type": "stream",
     "text": [
      "\n",
      "Value Counts\n"
     ]
    },
    {
     "data": {
      "text/plain": [
       "2    265\n",
       "3      9\n",
       "Name: scientific_name, dtype: int64"
      ]
     },
     "execution_count": 26,
     "metadata": {},
     "output_type": "execute_result"
    }
   ],
   "source": [
    "display(duplicated_scientific_names.groupby(['conservation_status', 'scientific_name'])['common_names'].count().sum())\n",
    "display(duplicated_scientific_names.groupby(['conservation_status', 'scientific_name'])['common_names'].count())\n",
    "print(\"\\nValue Counts\")\n",
    "duplicated_scientific_names.scientific_name.value_counts().value_counts()"
   ]
  },
  {
   "cell_type": "code",
   "execution_count": 27,
   "metadata": {},
   "outputs": [
    {
     "data": {
      "text/plain": [
       "11"
      ]
     },
     "execution_count": 27,
     "metadata": {},
     "output_type": "execute_result"
    }
   ],
   "source": [
    "duplicated_scientific_names.groupby(['conservation_status', 'scientific_name'])['common_names'].count().index.get_level_values('scientific_name').nunique()"
   ]
  },
  {
   "cell_type": "markdown",
   "metadata": {},
   "source": [
    "<font size=\"3\">All duplicated species by scientific name only have 2 or 3 duplicate entries. The number of species under watch is 11. Only 9 species total have 3 duplicated scientific names whereas 265 have 2 duplicated names. It appears that the Canis lupus (the gray wolf) and Myotis lucifugus (the little brown bat) both have three statuses under watch, with the little brown bat having all three as as `species of concern`. We already know the gray wolf and rainbow trout have mixed statuses. That leaves us with the remaining 9 of 11. So what about the duplicated species with 2 entries? Are any of them 1 of the 7 to remaning on the 3 species list? <br><br>\n",
    "Let's look more at the species on this list to see which with a count of 2 have a mixed statuses and confirm the statuses of species with 3 entries.</font>"
   ]
  },
  {
   "cell_type": "code",
   "execution_count": 28,
   "metadata": {},
   "outputs": [],
   "source": [
    "list_of_3_entries = duplicated_scientific_names.scientific_name.value_counts()[duplicated_scientific_names.scientific_name.value_counts() == 3].index\n",
    "list_of_2_entries = duplicated_scientific_names.scientific_name.value_counts()[duplicated_scientific_names.scientific_name.value_counts() == 2].index"
   ]
  },
  {
   "cell_type": "code",
   "execution_count": 29,
   "metadata": {},
   "outputs": [
    {
     "data": {
      "text/html": [
       "<div>\n",
       "<style scoped>\n",
       "    .dataframe tbody tr th:only-of-type {\n",
       "        vertical-align: middle;\n",
       "    }\n",
       "\n",
       "    .dataframe tbody tr th {\n",
       "        vertical-align: top;\n",
       "    }\n",
       "\n",
       "    .dataframe thead th {\n",
       "        text-align: right;\n",
       "    }\n",
       "</style>\n",
       "<table border=\"1\" class=\"dataframe\">\n",
       "  <thead>\n",
       "    <tr style=\"text-align: right;\">\n",
       "      <th></th>\n",
       "      <th>category</th>\n",
       "      <th>scientific_name</th>\n",
       "      <th>common_names</th>\n",
       "      <th>conservation_status</th>\n",
       "    </tr>\n",
       "  </thead>\n",
       "  <tbody>\n",
       "    <tr>\n",
       "      <th>8</th>\n",
       "      <td>Mammal</td>\n",
       "      <td>Canis lupus</td>\n",
       "      <td>Gray Wolf</td>\n",
       "      <td>Endangered</td>\n",
       "    </tr>\n",
       "    <tr>\n",
       "      <th>3020</th>\n",
       "      <td>Mammal</td>\n",
       "      <td>Canis lupus</td>\n",
       "      <td>Gray Wolf, Wolf</td>\n",
       "      <td>In Recovery</td>\n",
       "    </tr>\n",
       "    <tr>\n",
       "      <th>4448</th>\n",
       "      <td>Mammal</td>\n",
       "      <td>Canis lupus</td>\n",
       "      <td>Gray Wolf, Wolf</td>\n",
       "      <td>Endangered</td>\n",
       "    </tr>\n",
       "    <tr>\n",
       "      <th>49</th>\n",
       "      <td>Mammal</td>\n",
       "      <td>Castor canadensis</td>\n",
       "      <td>American Beaver, Beaver</td>\n",
       "      <td>NaN</td>\n",
       "    </tr>\n",
       "    <tr>\n",
       "      <th>4475</th>\n",
       "      <td>Mammal</td>\n",
       "      <td>Castor canadensis</td>\n",
       "      <td>Beaver</td>\n",
       "      <td>NaN</td>\n",
       "    </tr>\n",
       "    <tr>\n",
       "      <th>3050</th>\n",
       "      <td>Mammal</td>\n",
       "      <td>Castor canadensis</td>\n",
       "      <td>American Beaver</td>\n",
       "      <td>NaN</td>\n",
       "    </tr>\n",
       "    <tr>\n",
       "      <th>4513</th>\n",
       "      <td>Bird</td>\n",
       "      <td>Columba livia</td>\n",
       "      <td>Rock Pigeon</td>\n",
       "      <td>NaN</td>\n",
       "    </tr>\n",
       "    <tr>\n",
       "      <th>3138</th>\n",
       "      <td>Bird</td>\n",
       "      <td>Columba livia</td>\n",
       "      <td>Common Pigeon, Rock Dove, Rock Pigeon</td>\n",
       "      <td>NaN</td>\n",
       "    </tr>\n",
       "    <tr>\n",
       "      <th>156</th>\n",
       "      <td>Bird</td>\n",
       "      <td>Columba livia</td>\n",
       "      <td>Rock Dove</td>\n",
       "      <td>NaN</td>\n",
       "    </tr>\n",
       "    <tr>\n",
       "      <th>4236</th>\n",
       "      <td>Vascular Plant</td>\n",
       "      <td>Holcus lanatus</td>\n",
       "      <td>Common Velvetgrass, Yorkshire-Fog</td>\n",
       "      <td>NaN</td>\n",
       "    </tr>\n",
       "    <tr>\n",
       "      <th>5600</th>\n",
       "      <td>Vascular Plant</td>\n",
       "      <td>Holcus lanatus</td>\n",
       "      <td>Common Velvetgrass, Velvetgrass, Yorkshire Fog</td>\n",
       "      <td>NaN</td>\n",
       "    </tr>\n",
       "    <tr>\n",
       "      <th>2242</th>\n",
       "      <td>Vascular Plant</td>\n",
       "      <td>Holcus lanatus</td>\n",
       "      <td>Common Velvet Grass, Velvetgrass</td>\n",
       "      <td>NaN</td>\n",
       "    </tr>\n",
       "    <tr>\n",
       "      <th>3488</th>\n",
       "      <td>Vascular Plant</td>\n",
       "      <td>Hypochaeris radicata</td>\n",
       "      <td>Spotted Cats-Ear, Hairy Cats-Ear, Gosmore</td>\n",
       "      <td>NaN</td>\n",
       "    </tr>\n",
       "    <tr>\n",
       "      <th>4799</th>\n",
       "      <td>Vascular Plant</td>\n",
       "      <td>Hypochaeris radicata</td>\n",
       "      <td>Common Cat's-Ear, False Dandelion, Frogbit, Go...</td>\n",
       "      <td>NaN</td>\n",
       "    </tr>\n",
       "    <tr>\n",
       "      <th>858</th>\n",
       "      <td>Vascular Plant</td>\n",
       "      <td>Hypochaeris radicata</td>\n",
       "      <td>Cat's Ear, Spotted Cat's-Ear</td>\n",
       "      <td>NaN</td>\n",
       "    </tr>\n",
       "    <tr>\n",
       "      <th>4467</th>\n",
       "      <td>Mammal</td>\n",
       "      <td>Myotis lucifugus</td>\n",
       "      <td>Little Brown Myotis</td>\n",
       "      <td>Species of Concern</td>\n",
       "    </tr>\n",
       "    <tr>\n",
       "      <th>3042</th>\n",
       "      <td>Mammal</td>\n",
       "      <td>Myotis lucifugus</td>\n",
       "      <td>Little Brown Bat, Little Brown Myotis, Little ...</td>\n",
       "      <td>Species of Concern</td>\n",
       "    </tr>\n",
       "    <tr>\n",
       "      <th>37</th>\n",
       "      <td>Mammal</td>\n",
       "      <td>Myotis lucifugus</td>\n",
       "      <td>Little Brown Bat, Little Brown Myotis</td>\n",
       "      <td>Species of Concern</td>\n",
       "    </tr>\n",
       "    <tr>\n",
       "      <th>3030</th>\n",
       "      <td>Mammal</td>\n",
       "      <td>Procyon lotor</td>\n",
       "      <td>Common Raccoon, Northern Raccoon, Raccoon</td>\n",
       "      <td>NaN</td>\n",
       "    </tr>\n",
       "    <tr>\n",
       "      <th>26</th>\n",
       "      <td>Mammal</td>\n",
       "      <td>Procyon lotor</td>\n",
       "      <td>Common Raccoon, Raccoon</td>\n",
       "      <td>NaN</td>\n",
       "    </tr>\n",
       "    <tr>\n",
       "      <th>4459</th>\n",
       "      <td>Mammal</td>\n",
       "      <td>Procyon lotor</td>\n",
       "      <td>Raccoon</td>\n",
       "      <td>NaN</td>\n",
       "    </tr>\n",
       "    <tr>\n",
       "      <th>16</th>\n",
       "      <td>Mammal</td>\n",
       "      <td>Puma concolor</td>\n",
       "      <td>Panther (Mountain Lion)</td>\n",
       "      <td>NaN</td>\n",
       "    </tr>\n",
       "    <tr>\n",
       "      <th>4451</th>\n",
       "      <td>Mammal</td>\n",
       "      <td>Puma concolor</td>\n",
       "      <td>Mountain Lion</td>\n",
       "      <td>NaN</td>\n",
       "    </tr>\n",
       "    <tr>\n",
       "      <th>3022</th>\n",
       "      <td>Mammal</td>\n",
       "      <td>Puma concolor</td>\n",
       "      <td>Cougar, Mountain Lion, Puma</td>\n",
       "      <td>NaN</td>\n",
       "    </tr>\n",
       "    <tr>\n",
       "      <th>4514</th>\n",
       "      <td>Bird</td>\n",
       "      <td>Streptopelia decaocto</td>\n",
       "      <td>Eurasian Collared Dove</td>\n",
       "      <td>NaN</td>\n",
       "    </tr>\n",
       "    <tr>\n",
       "      <th>3140</th>\n",
       "      <td>Bird</td>\n",
       "      <td>Streptopelia decaocto</td>\n",
       "      <td>Eurasian Collared Dove, Eurasian Collared-Dove</td>\n",
       "      <td>NaN</td>\n",
       "    </tr>\n",
       "    <tr>\n",
       "      <th>3077</th>\n",
       "      <td>Bird</td>\n",
       "      <td>Streptopelia decaocto</td>\n",
       "      <td>Eurasian Collared-Dove</td>\n",
       "      <td>NaN</td>\n",
       "    </tr>\n",
       "  </tbody>\n",
       "</table>\n",
       "</div>"
      ],
      "text/plain": [
       "            category        scientific_name  \\\n",
       "8             Mammal            Canis lupus   \n",
       "3020          Mammal            Canis lupus   \n",
       "4448          Mammal            Canis lupus   \n",
       "49            Mammal      Castor canadensis   \n",
       "4475          Mammal      Castor canadensis   \n",
       "3050          Mammal      Castor canadensis   \n",
       "4513            Bird          Columba livia   \n",
       "3138            Bird          Columba livia   \n",
       "156             Bird          Columba livia   \n",
       "4236  Vascular Plant         Holcus lanatus   \n",
       "5600  Vascular Plant         Holcus lanatus   \n",
       "2242  Vascular Plant         Holcus lanatus   \n",
       "3488  Vascular Plant   Hypochaeris radicata   \n",
       "4799  Vascular Plant   Hypochaeris radicata   \n",
       "858   Vascular Plant   Hypochaeris radicata   \n",
       "4467          Mammal       Myotis lucifugus   \n",
       "3042          Mammal       Myotis lucifugus   \n",
       "37            Mammal       Myotis lucifugus   \n",
       "3030          Mammal          Procyon lotor   \n",
       "26            Mammal          Procyon lotor   \n",
       "4459          Mammal          Procyon lotor   \n",
       "16            Mammal          Puma concolor   \n",
       "4451          Mammal          Puma concolor   \n",
       "3022          Mammal          Puma concolor   \n",
       "4514            Bird  Streptopelia decaocto   \n",
       "3140            Bird  Streptopelia decaocto   \n",
       "3077            Bird  Streptopelia decaocto   \n",
       "\n",
       "                                           common_names conservation_status  \n",
       "8                                             Gray Wolf          Endangered  \n",
       "3020                                    Gray Wolf, Wolf         In Recovery  \n",
       "4448                                    Gray Wolf, Wolf          Endangered  \n",
       "49                              American Beaver, Beaver                 NaN  \n",
       "4475                                             Beaver                 NaN  \n",
       "3050                                    American Beaver                 NaN  \n",
       "4513                                        Rock Pigeon                 NaN  \n",
       "3138              Common Pigeon, Rock Dove, Rock Pigeon                 NaN  \n",
       "156                                           Rock Dove                 NaN  \n",
       "4236                  Common Velvetgrass, Yorkshire-Fog                 NaN  \n",
       "5600     Common Velvetgrass, Velvetgrass, Yorkshire Fog                 NaN  \n",
       "2242                   Common Velvet Grass, Velvetgrass                 NaN  \n",
       "3488          Spotted Cats-Ear, Hairy Cats-Ear, Gosmore                 NaN  \n",
       "4799  Common Cat's-Ear, False Dandelion, Frogbit, Go...                 NaN  \n",
       "858                        Cat's Ear, Spotted Cat's-Ear                 NaN  \n",
       "4467                                Little Brown Myotis  Species of Concern  \n",
       "3042  Little Brown Bat, Little Brown Myotis, Little ...  Species of Concern  \n",
       "37                Little Brown Bat, Little Brown Myotis  Species of Concern  \n",
       "3030          Common Raccoon, Northern Raccoon, Raccoon                 NaN  \n",
       "26                              Common Raccoon, Raccoon                 NaN  \n",
       "4459                                            Raccoon                 NaN  \n",
       "16                              Panther (Mountain Lion)                 NaN  \n",
       "4451                                      Mountain Lion                 NaN  \n",
       "3022                        Cougar, Mountain Lion, Puma                 NaN  \n",
       "4514                             Eurasian Collared Dove                 NaN  \n",
       "3140     Eurasian Collared Dove, Eurasian Collared-Dove                 NaN  \n",
       "3077                             Eurasian Collared-Dove                 NaN  "
      ]
     },
     "execution_count": 29,
     "metadata": {},
     "output_type": "execute_result"
    }
   ],
   "source": [
    "duplicated_scientific_names[duplicated_scientific_names.scientific_name.isin(list_of_3_entries)]"
   ]
  },
  {
   "cell_type": "markdown",
   "metadata": {},
   "source": [
    "<font size=\"3\"> It is confirmed that none of the list of 3 except the wolf and bat have mixed statuses. Therefore, the remaining 9 species (11 including ranibow trout, gray wolf and brown bat) must have only 2 entries each.<br><br>Since the list of 2 is large (265), let's create a mask to filter out any species that have both statuses as _`not in danger`_. We will test the mask first with the list of 3.</font>"
   ]
  },
  {
   "cell_type": "code",
   "execution_count": 30,
   "metadata": {
    "tags": []
   },
   "outputs": [
    {
     "data": {
      "text/html": [
       "<div>\n",
       "<style scoped>\n",
       "    .dataframe tbody tr th:only-of-type {\n",
       "        vertical-align: middle;\n",
       "    }\n",
       "\n",
       "    .dataframe tbody tr th {\n",
       "        vertical-align: top;\n",
       "    }\n",
       "\n",
       "    .dataframe thead th {\n",
       "        text-align: right;\n",
       "    }\n",
       "</style>\n",
       "<table border=\"1\" class=\"dataframe\">\n",
       "  <thead>\n",
       "    <tr style=\"text-align: right;\">\n",
       "      <th></th>\n",
       "      <th>category</th>\n",
       "      <th>scientific_name</th>\n",
       "      <th>common_names</th>\n",
       "      <th>conservation_status</th>\n",
       "    </tr>\n",
       "  </thead>\n",
       "  <tbody>\n",
       "    <tr>\n",
       "      <th>8</th>\n",
       "      <td>Mammal</td>\n",
       "      <td>Canis lupus</td>\n",
       "      <td>Gray Wolf</td>\n",
       "      <td>Endangered</td>\n",
       "    </tr>\n",
       "    <tr>\n",
       "      <th>3020</th>\n",
       "      <td>Mammal</td>\n",
       "      <td>Canis lupus</td>\n",
       "      <td>Gray Wolf, Wolf</td>\n",
       "      <td>In Recovery</td>\n",
       "    </tr>\n",
       "    <tr>\n",
       "      <th>4448</th>\n",
       "      <td>Mammal</td>\n",
       "      <td>Canis lupus</td>\n",
       "      <td>Gray Wolf, Wolf</td>\n",
       "      <td>Endangered</td>\n",
       "    </tr>\n",
       "    <tr>\n",
       "      <th>4467</th>\n",
       "      <td>Mammal</td>\n",
       "      <td>Myotis lucifugus</td>\n",
       "      <td>Little Brown Myotis</td>\n",
       "      <td>Species of Concern</td>\n",
       "    </tr>\n",
       "    <tr>\n",
       "      <th>3042</th>\n",
       "      <td>Mammal</td>\n",
       "      <td>Myotis lucifugus</td>\n",
       "      <td>Little Brown Bat, Little Brown Myotis, Little ...</td>\n",
       "      <td>Species of Concern</td>\n",
       "    </tr>\n",
       "    <tr>\n",
       "      <th>37</th>\n",
       "      <td>Mammal</td>\n",
       "      <td>Myotis lucifugus</td>\n",
       "      <td>Little Brown Bat, Little Brown Myotis</td>\n",
       "      <td>Species of Concern</td>\n",
       "    </tr>\n",
       "  </tbody>\n",
       "</table>\n",
       "</div>"
      ],
      "text/plain": [
       "     category   scientific_name  \\\n",
       "8      Mammal       Canis lupus   \n",
       "3020   Mammal       Canis lupus   \n",
       "4448   Mammal       Canis lupus   \n",
       "4467   Mammal  Myotis lucifugus   \n",
       "3042   Mammal  Myotis lucifugus   \n",
       "37     Mammal  Myotis lucifugus   \n",
       "\n",
       "                                           common_names conservation_status  \n",
       "8                                             Gray Wolf          Endangered  \n",
       "3020                                    Gray Wolf, Wolf         In Recovery  \n",
       "4448                                    Gray Wolf, Wolf          Endangered  \n",
       "4467                                Little Brown Myotis  Species of Concern  \n",
       "3042  Little Brown Bat, Little Brown Myotis, Little ...  Species of Concern  \n",
       "37                Little Brown Bat, Little Brown Myotis  Species of Concern  "
      ]
     },
     "execution_count": 30,
     "metadata": {},
     "output_type": "execute_result"
    }
   ],
   "source": [
    "# duplicated_scientific_names[~(duplicated_scientific_names.conservation_status == \"`not in danger`\") & duplicated_scientific_names.scientific_name.isin(list_of_3_entries)]\n",
    "mask_3 = ~(duplicated_scientific_names.conservation_status.isna()) & duplicated_scientific_names.scientific_name.isin(list_of_3_entries)\n",
    "duplicated_scientific_names[mask_3]#.scientific_name.nunique()"
   ]
  },
  {
   "cell_type": "code",
   "execution_count": 31,
   "metadata": {},
   "outputs": [
    {
     "data": {
      "text/html": [
       "<div>\n",
       "<style scoped>\n",
       "    .dataframe tbody tr th:only-of-type {\n",
       "        vertical-align: middle;\n",
       "    }\n",
       "\n",
       "    .dataframe tbody tr th {\n",
       "        vertical-align: top;\n",
       "    }\n",
       "\n",
       "    .dataframe thead th {\n",
       "        text-align: right;\n",
       "    }\n",
       "</style>\n",
       "<table border=\"1\" class=\"dataframe\">\n",
       "  <thead>\n",
       "    <tr style=\"text-align: right;\">\n",
       "      <th></th>\n",
       "      <th>category</th>\n",
       "      <th>scientific_name</th>\n",
       "      <th>common_names</th>\n",
       "      <th>conservation_status</th>\n",
       "    </tr>\n",
       "  </thead>\n",
       "  <tbody>\n",
       "    <tr>\n",
       "      <th>29</th>\n",
       "      <td>Mammal</td>\n",
       "      <td>Eptesicus fuscus</td>\n",
       "      <td>Big Brown Bat</td>\n",
       "      <td>Species of Concern</td>\n",
       "    </tr>\n",
       "    <tr>\n",
       "      <th>3035</th>\n",
       "      <td>Mammal</td>\n",
       "      <td>Eptesicus fuscus</td>\n",
       "      <td>Big Brown Bat, Big Brown Bat</td>\n",
       "      <td>Species of Concern</td>\n",
       "    </tr>\n",
       "    <tr>\n",
       "      <th>3150</th>\n",
       "      <td>Bird</td>\n",
       "      <td>Gavia immer</td>\n",
       "      <td>Common Loon, Great Northern Diver, Great North...</td>\n",
       "      <td>Species of Concern</td>\n",
       "    </tr>\n",
       "    <tr>\n",
       "      <th>172</th>\n",
       "      <td>Bird</td>\n",
       "      <td>Gavia immer</td>\n",
       "      <td>Common Loon</td>\n",
       "      <td>Species of Concern</td>\n",
       "    </tr>\n",
       "    <tr>\n",
       "      <th>30</th>\n",
       "      <td>Mammal</td>\n",
       "      <td>Lasionycteris noctivagans</td>\n",
       "      <td>Silver-Haired Bat</td>\n",
       "      <td>Species of Concern</td>\n",
       "    </tr>\n",
       "    <tr>\n",
       "      <th>3037</th>\n",
       "      <td>Mammal</td>\n",
       "      <td>Lasionycteris noctivagans</td>\n",
       "      <td>Silver-Haired Bat, Silver-Haired Bat</td>\n",
       "      <td>Species of Concern</td>\n",
       "    </tr>\n",
       "    <tr>\n",
       "      <th>4465</th>\n",
       "      <td>Mammal</td>\n",
       "      <td>Myotis californicus</td>\n",
       "      <td>California Myotis</td>\n",
       "      <td>Species of Concern</td>\n",
       "    </tr>\n",
       "    <tr>\n",
       "      <th>3039</th>\n",
       "      <td>Mammal</td>\n",
       "      <td>Myotis californicus</td>\n",
       "      <td>California Myotis, California Myotis, Californ...</td>\n",
       "      <td>Species of Concern</td>\n",
       "    </tr>\n",
       "    <tr>\n",
       "      <th>337</th>\n",
       "      <td>Bird</td>\n",
       "      <td>Nycticorax nycticorax</td>\n",
       "      <td>Black-Crowned Night-Heron</td>\n",
       "      <td>Species of Concern</td>\n",
       "    </tr>\n",
       "    <tr>\n",
       "      <th>4564</th>\n",
       "      <td>Bird</td>\n",
       "      <td>Nycticorax nycticorax</td>\n",
       "      <td>Black-Crowned Night Heron</td>\n",
       "      <td>Species of Concern</td>\n",
       "    </tr>\n",
       "    <tr>\n",
       "      <th>3283</th>\n",
       "      <td>Fish</td>\n",
       "      <td>Oncorhynchus mykiss</td>\n",
       "      <td>Rainbow Trout</td>\n",
       "      <td>Threatened</td>\n",
       "    </tr>\n",
       "    <tr>\n",
       "      <th>3081</th>\n",
       "      <td>Bird</td>\n",
       "      <td>Pandion haliaetus</td>\n",
       "      <td>Osprey, Western Osprey</td>\n",
       "      <td>Species of Concern</td>\n",
       "    </tr>\n",
       "    <tr>\n",
       "      <th>104</th>\n",
       "      <td>Bird</td>\n",
       "      <td>Pandion haliaetus</td>\n",
       "      <td>Osprey</td>\n",
       "      <td>Species of Concern</td>\n",
       "    </tr>\n",
       "    <tr>\n",
       "      <th>226</th>\n",
       "      <td>Bird</td>\n",
       "      <td>Riparia riparia</td>\n",
       "      <td>Bank Swallow</td>\n",
       "      <td>Species of Concern</td>\n",
       "    </tr>\n",
       "    <tr>\n",
       "      <th>3185</th>\n",
       "      <td>Bird</td>\n",
       "      <td>Riparia riparia</td>\n",
       "      <td>Bank Swallow, Sand Martin</td>\n",
       "      <td>Species of Concern</td>\n",
       "    </tr>\n",
       "    <tr>\n",
       "      <th>3029</th>\n",
       "      <td>Mammal</td>\n",
       "      <td>Taxidea taxus</td>\n",
       "      <td>American Badger, Badger</td>\n",
       "      <td>Species of Concern</td>\n",
       "    </tr>\n",
       "    <tr>\n",
       "      <th>4457</th>\n",
       "      <td>Mammal</td>\n",
       "      <td>Taxidea taxus</td>\n",
       "      <td>Badger</td>\n",
       "      <td>Species of Concern</td>\n",
       "    </tr>\n",
       "  </tbody>\n",
       "</table>\n",
       "</div>"
      ],
      "text/plain": [
       "     category            scientific_name  \\\n",
       "29     Mammal           Eptesicus fuscus   \n",
       "3035   Mammal           Eptesicus fuscus   \n",
       "3150     Bird                Gavia immer   \n",
       "172      Bird                Gavia immer   \n",
       "30     Mammal  Lasionycteris noctivagans   \n",
       "3037   Mammal  Lasionycteris noctivagans   \n",
       "4465   Mammal        Myotis californicus   \n",
       "3039   Mammal        Myotis californicus   \n",
       "337      Bird      Nycticorax nycticorax   \n",
       "4564     Bird      Nycticorax nycticorax   \n",
       "3283     Fish        Oncorhynchus mykiss   \n",
       "3081     Bird          Pandion haliaetus   \n",
       "104      Bird          Pandion haliaetus   \n",
       "226      Bird            Riparia riparia   \n",
       "3185     Bird            Riparia riparia   \n",
       "3029   Mammal              Taxidea taxus   \n",
       "4457   Mammal              Taxidea taxus   \n",
       "\n",
       "                                           common_names conservation_status  \n",
       "29                                        Big Brown Bat  Species of Concern  \n",
       "3035                       Big Brown Bat, Big Brown Bat  Species of Concern  \n",
       "3150  Common Loon, Great Northern Diver, Great North...  Species of Concern  \n",
       "172                                         Common Loon  Species of Concern  \n",
       "30                                    Silver-Haired Bat  Species of Concern  \n",
       "3037               Silver-Haired Bat, Silver-Haired Bat  Species of Concern  \n",
       "4465                                  California Myotis  Species of Concern  \n",
       "3039  California Myotis, California Myotis, Californ...  Species of Concern  \n",
       "337                           Black-Crowned Night-Heron  Species of Concern  \n",
       "4564                          Black-Crowned Night Heron  Species of Concern  \n",
       "3283                                      Rainbow Trout          Threatened  \n",
       "3081                             Osprey, Western Osprey  Species of Concern  \n",
       "104                                              Osprey  Species of Concern  \n",
       "226                                        Bank Swallow  Species of Concern  \n",
       "3185                          Bank Swallow, Sand Martin  Species of Concern  \n",
       "3029                            American Badger, Badger  Species of Concern  \n",
       "4457                                             Badger  Species of Concern  "
      ]
     },
     "execution_count": 31,
     "metadata": {},
     "output_type": "execute_result"
    }
   ],
   "source": [
    "# duplicated_scientific_names[~(duplicated_scientific_names.conservation_status == \"`not in danger`\") & duplicated_scientific_names.scientific_name.isin(list_of_2_entries)]\n",
    "mask_2 = ~(duplicated_scientific_names.conservation_status.isna()) & duplicated_scientific_names.scientific_name.isin(list_of_2_entries)\n",
    "duplicated_scientific_names[mask_2]"
   ]
  },
  {
   "cell_type": "markdown",
   "metadata": {},
   "source": [
    "<font size=\"3\">Because there are two entries for each `species of concern` in this filtered data, none of the entries under watch have a mixed status, except for the rainbow trout. That means the majority of entries of 2 have a status of `not in danger`.<br><br> Finally, I will use my masks to make sure all 11 species with duplicates under watch were accounted for.</font>"
   ]
  },
  {
   "cell_type": "code",
   "execution_count": 32,
   "metadata": {},
   "outputs": [
    {
     "data": {
      "text/plain": [
       "11"
      ]
     },
     "execution_count": 32,
     "metadata": {},
     "output_type": "execute_result"
    }
   ],
   "source": [
    "duplicated_scientific_names[mask_2 + mask_3].scientific_name.nunique()\n",
    "\n",
    "# display(sorted(duplicated_scientific_names[mask].scientific_name.unique()))\n",
    "# sorted(duplicated_scientific_names.groupby(['conservation_status', 'scientific_name'])['common_names'].count().to_frame().index.get_level_values(1).unique()[1:])"
   ]
  },
  {
   "cell_type": "markdown",
   "metadata": {},
   "source": [
    "<font size=\"3\">In summary: <ul><li>All duplicated species are either on the list 2 or 3 times.</li><li>Almost all of the species with multiple entries have the same conservation status. The majority here are _`not in danger`_</li><li>**11** species are _in danger_ or _under watch_.</li><li> **9 of 11** have a status of 'species of concern. Of those 9, *only the little brown bat has 3 duplicates* while the rest have 2.</li><li>Only **2 of 11** species, *the gray wolf and rainbow trout*, have multiple or mixed statuses.</li></ul><br>\n",
    "I conclude that the duplicate entries are most likely not by mistake. They might be included more than once because of a previous change in status. The authorities are constantly updating the conservation status of species. Alternatively, it is possible that there were different pools or populations of the species being monitored in different locations, or they were being monitored by different observers. This might explain the different common names listed. Since there is no date data, it is not possible to make a definitive conclusion.\n",
    "<br><br>\n",
    "It is crucial to look at the obervations table to get a sense of what is going with the multiple entries.</font>"
   ]
  },
  {
   "cell_type": "markdown",
   "metadata": {},
   "source": [
    "<font size=\"3\">Before that, I am going to save the data frame containing all the duplicate species with mixed status</font>"
   ]
  },
  {
   "cell_type": "code",
   "execution_count": 33,
   "metadata": {},
   "outputs": [],
   "source": [
    "duplicated_scientific_names_under_watch = duplicated_scientific_names[~duplicated_scientific_names.conservation_status.isna()]['scientific_name'].unique().tolist()\n",
    "danger = duplicated_scientific_names[duplicated_scientific_names.scientific_name.apply(lambda species: species in duplicated_scientific_names_under_watch)].reset_index()\n",
    "danger.to_csv('data/species_in_danger.csv')"
   ]
  },
  {
   "cell_type": "code",
   "execution_count": 34,
   "metadata": {},
   "outputs": [],
   "source": [
    "# FOR DROPPING \n",
    "\n",
    "# duplicated_mask = species.duplicated(subset=['scientific_name'], keep=False)\n",
    "# trout_keep_NA_mask = species.scientific_name == species.loc[560, 'scientific_name']\n",
    "# duplicated_mask_NA = species.conservation_status.isna() & ~trout_keep_NA_mask\n",
    "\n",
    "# TEST = species[~(duplicated_mask & duplicated_mask_NA)]\n",
    "# species[species.conservation_status.isna()].drop_duplicates(subset=['scientific_name'], keep='first')\n",
    "# duplicated_scientific_names_mixed_status = duplicated_scientific_names[~duplicated_scientific_names.conservation_status.isna()]['scientific_name'].unique().tolist()\n",
    "# species[species.scientific_name.isin(duplicated_scientific_names_mixed_status)]"
   ]
  },
  {
   "cell_type": "code",
   "execution_count": null,
   "metadata": {},
   "outputs": [],
   "source": []
  },
  {
   "cell_type": "code",
   "execution_count": 35,
   "metadata": {},
   "outputs": [
    {
     "data": {
      "text/plain": [
       "(23296, 3)"
      ]
     },
     "metadata": {},
     "output_type": "display_data"
    },
    {
     "data": {
      "text/html": [
       "<div>\n",
       "<style scoped>\n",
       "    .dataframe tbody tr th:only-of-type {\n",
       "        vertical-align: middle;\n",
       "    }\n",
       "\n",
       "    .dataframe tbody tr th {\n",
       "        vertical-align: top;\n",
       "    }\n",
       "\n",
       "    .dataframe thead th {\n",
       "        text-align: right;\n",
       "    }\n",
       "</style>\n",
       "<table border=\"1\" class=\"dataframe\">\n",
       "  <thead>\n",
       "    <tr style=\"text-align: right;\">\n",
       "      <th></th>\n",
       "      <th>scientific_name</th>\n",
       "      <th>park_name</th>\n",
       "      <th>observations</th>\n",
       "    </tr>\n",
       "  </thead>\n",
       "  <tbody>\n",
       "    <tr>\n",
       "      <th>0</th>\n",
       "      <td>Vicia benghalensis</td>\n",
       "      <td>Great Smoky Mountains National Park</td>\n",
       "      <td>68</td>\n",
       "    </tr>\n",
       "    <tr>\n",
       "      <th>1</th>\n",
       "      <td>Neovison vison</td>\n",
       "      <td>Great Smoky Mountains National Park</td>\n",
       "      <td>77</td>\n",
       "    </tr>\n",
       "    <tr>\n",
       "      <th>2</th>\n",
       "      <td>Prunus subcordata</td>\n",
       "      <td>Yosemite National Park</td>\n",
       "      <td>138</td>\n",
       "    </tr>\n",
       "    <tr>\n",
       "      <th>3</th>\n",
       "      <td>Abutilon theophrasti</td>\n",
       "      <td>Bryce National Park</td>\n",
       "      <td>84</td>\n",
       "    </tr>\n",
       "    <tr>\n",
       "      <th>4</th>\n",
       "      <td>Githopsis specularioides</td>\n",
       "      <td>Great Smoky Mountains National Park</td>\n",
       "      <td>85</td>\n",
       "    </tr>\n",
       "  </tbody>\n",
       "</table>\n",
       "</div>"
      ],
      "text/plain": [
       "            scientific_name                            park_name  observations\n",
       "0        Vicia benghalensis  Great Smoky Mountains National Park            68\n",
       "1            Neovison vison  Great Smoky Mountains National Park            77\n",
       "2         Prunus subcordata               Yosemite National Park           138\n",
       "3      Abutilon theophrasti                  Bryce National Park            84\n",
       "4  Githopsis specularioides  Great Smoky Mountains National Park            85"
      ]
     },
     "execution_count": 35,
     "metadata": {},
     "output_type": "execute_result"
    }
   ],
   "source": [
    "display(observations.shape)\n",
    "observations.head()"
   ]
  },
  {
   "cell_type": "markdown",
   "metadata": {},
   "source": [
    "<font size=\"3\">The observations data contains only the scientific name, park name, and the number of observations. There is no date or time data included, nor data about the common name. Also, it is unclear if an observation is a unique count of a species or just a sighting of a species, but I assume it is the case that an observation is a unqiue number of the species found in the park at a given time.</font>"
   ]
  },
  {
   "cell_type": "code",
   "execution_count": 36,
   "metadata": {},
   "outputs": [
    {
     "data": {
      "text/plain": [
       "15"
      ]
     },
     "execution_count": 36,
     "metadata": {},
     "output_type": "execute_result"
    }
   ],
   "source": [
    "observations.duplicated().sum()"
   ]
  },
  {
   "cell_type": "code",
   "execution_count": 37,
   "metadata": {},
   "outputs": [
    {
     "data": {
      "text/html": [
       "<div>\n",
       "<style scoped>\n",
       "    .dataframe tbody tr th:only-of-type {\n",
       "        vertical-align: middle;\n",
       "    }\n",
       "\n",
       "    .dataframe tbody tr th {\n",
       "        vertical-align: top;\n",
       "    }\n",
       "\n",
       "    .dataframe thead th {\n",
       "        text-align: right;\n",
       "    }\n",
       "</style>\n",
       "<table border=\"1\" class=\"dataframe\">\n",
       "  <thead>\n",
       "    <tr style=\"text-align: right;\">\n",
       "      <th></th>\n",
       "      <th>scientific_name</th>\n",
       "      <th>park_name</th>\n",
       "      <th>observations</th>\n",
       "    </tr>\n",
       "  </thead>\n",
       "  <tbody>\n",
       "    <tr>\n",
       "      <th>513</th>\n",
       "      <td>Arctium minus</td>\n",
       "      <td>Yosemite National Park</td>\n",
       "      <td>162</td>\n",
       "    </tr>\n",
       "    <tr>\n",
       "      <th>10674</th>\n",
       "      <td>Arctium minus</td>\n",
       "      <td>Yosemite National Park</td>\n",
       "      <td>162</td>\n",
       "    </tr>\n",
       "    <tr>\n",
       "      <th>4527</th>\n",
       "      <td>Botrychium virginianum</td>\n",
       "      <td>Yellowstone National Park</td>\n",
       "      <td>232</td>\n",
       "    </tr>\n",
       "    <tr>\n",
       "      <th>20294</th>\n",
       "      <td>Botrychium virginianum</td>\n",
       "      <td>Yellowstone National Park</td>\n",
       "      <td>232</td>\n",
       "    </tr>\n",
       "    <tr>\n",
       "      <th>19392</th>\n",
       "      <td>Cichorium intybus</td>\n",
       "      <td>Yellowstone National Park</td>\n",
       "      <td>266</td>\n",
       "    </tr>\n",
       "    <tr>\n",
       "      <th>14142</th>\n",
       "      <td>Cichorium intybus</td>\n",
       "      <td>Yellowstone National Park</td>\n",
       "      <td>266</td>\n",
       "    </tr>\n",
       "    <tr>\n",
       "      <th>7263</th>\n",
       "      <td>Echinochloa crus-galli</td>\n",
       "      <td>Great Smoky Mountains National Park</td>\n",
       "      <td>62</td>\n",
       "    </tr>\n",
       "    <tr>\n",
       "      <th>1454</th>\n",
       "      <td>Echinochloa crus-galli</td>\n",
       "      <td>Great Smoky Mountains National Park</td>\n",
       "      <td>62</td>\n",
       "    </tr>\n",
       "    <tr>\n",
       "      <th>1020</th>\n",
       "      <td>Eleocharis palustris</td>\n",
       "      <td>Great Smoky Mountains National Park</td>\n",
       "      <td>62</td>\n",
       "    </tr>\n",
       "    <tr>\n",
       "      <th>12381</th>\n",
       "      <td>Eleocharis palustris</td>\n",
       "      <td>Great Smoky Mountains National Park</td>\n",
       "      <td>62</td>\n",
       "    </tr>\n",
       "    <tr>\n",
       "      <th>1032</th>\n",
       "      <td>Hesperis matronalis</td>\n",
       "      <td>Bryce National Park</td>\n",
       "      <td>124</td>\n",
       "    </tr>\n",
       "    <tr>\n",
       "      <th>13372</th>\n",
       "      <td>Hesperis matronalis</td>\n",
       "      <td>Bryce National Park</td>\n",
       "      <td>124</td>\n",
       "    </tr>\n",
       "    <tr>\n",
       "      <th>4178</th>\n",
       "      <td>Monotropa hypopithys</td>\n",
       "      <td>Great Smoky Mountains National Park</td>\n",
       "      <td>73</td>\n",
       "    </tr>\n",
       "    <tr>\n",
       "      <th>20820</th>\n",
       "      <td>Monotropa hypopithys</td>\n",
       "      <td>Great Smoky Mountains National Park</td>\n",
       "      <td>73</td>\n",
       "    </tr>\n",
       "    <tr>\n",
       "      <th>10038</th>\n",
       "      <td>Plantago major</td>\n",
       "      <td>Great Smoky Mountains National Park</td>\n",
       "      <td>90</td>\n",
       "    </tr>\n",
       "    <tr>\n",
       "      <th>365</th>\n",
       "      <td>Plantago major</td>\n",
       "      <td>Great Smoky Mountains National Park</td>\n",
       "      <td>90</td>\n",
       "    </tr>\n",
       "    <tr>\n",
       "      <th>18141</th>\n",
       "      <td>Poa compressa</td>\n",
       "      <td>Great Smoky Mountains National Park</td>\n",
       "      <td>80</td>\n",
       "    </tr>\n",
       "    <tr>\n",
       "      <th>13097</th>\n",
       "      <td>Poa compressa</td>\n",
       "      <td>Great Smoky Mountains National Park</td>\n",
       "      <td>80</td>\n",
       "    </tr>\n",
       "    <tr>\n",
       "      <th>17378</th>\n",
       "      <td>Potentilla norvegica</td>\n",
       "      <td>Yosemite National Park</td>\n",
       "      <td>148</td>\n",
       "    </tr>\n",
       "    <tr>\n",
       "      <th>10809</th>\n",
       "      <td>Potentilla norvegica</td>\n",
       "      <td>Yosemite National Park</td>\n",
       "      <td>148</td>\n",
       "    </tr>\n",
       "    <tr>\n",
       "      <th>7219</th>\n",
       "      <td>Prunella vulgaris</td>\n",
       "      <td>Great Smoky Mountains National Park</td>\n",
       "      <td>75</td>\n",
       "    </tr>\n",
       "    <tr>\n",
       "      <th>16741</th>\n",
       "      <td>Prunella vulgaris</td>\n",
       "      <td>Great Smoky Mountains National Park</td>\n",
       "      <td>75</td>\n",
       "    </tr>\n",
       "    <tr>\n",
       "      <th>19575</th>\n",
       "      <td>Salix exigua</td>\n",
       "      <td>Yosemite National Park</td>\n",
       "      <td>186</td>\n",
       "    </tr>\n",
       "    <tr>\n",
       "      <th>22698</th>\n",
       "      <td>Salix exigua</td>\n",
       "      <td>Yosemite National Park</td>\n",
       "      <td>186</td>\n",
       "    </tr>\n",
       "    <tr>\n",
       "      <th>17577</th>\n",
       "      <td>Spilogale putorius</td>\n",
       "      <td>Yellowstone National Park</td>\n",
       "      <td>256</td>\n",
       "    </tr>\n",
       "    <tr>\n",
       "      <th>627</th>\n",
       "      <td>Spilogale putorius</td>\n",
       "      <td>Yellowstone National Park</td>\n",
       "      <td>256</td>\n",
       "    </tr>\n",
       "    <tr>\n",
       "      <th>8710</th>\n",
       "      <td>Streptopelia decaocto</td>\n",
       "      <td>Yellowstone National Park</td>\n",
       "      <td>255</td>\n",
       "    </tr>\n",
       "    <tr>\n",
       "      <th>1635</th>\n",
       "      <td>Streptopelia decaocto</td>\n",
       "      <td>Yellowstone National Park</td>\n",
       "      <td>255</td>\n",
       "    </tr>\n",
       "    <tr>\n",
       "      <th>21151</th>\n",
       "      <td>Trifolium campestre</td>\n",
       "      <td>Yellowstone National Park</td>\n",
       "      <td>239</td>\n",
       "    </tr>\n",
       "    <tr>\n",
       "      <th>18435</th>\n",
       "      <td>Trifolium campestre</td>\n",
       "      <td>Yellowstone National Park</td>\n",
       "      <td>239</td>\n",
       "    </tr>\n",
       "  </tbody>\n",
       "</table>\n",
       "</div>"
      ],
      "text/plain": [
       "              scientific_name                            park_name  \\\n",
       "513             Arctium minus               Yosemite National Park   \n",
       "10674           Arctium minus               Yosemite National Park   \n",
       "4527   Botrychium virginianum            Yellowstone National Park   \n",
       "20294  Botrychium virginianum            Yellowstone National Park   \n",
       "19392       Cichorium intybus            Yellowstone National Park   \n",
       "14142       Cichorium intybus            Yellowstone National Park   \n",
       "7263   Echinochloa crus-galli  Great Smoky Mountains National Park   \n",
       "1454   Echinochloa crus-galli  Great Smoky Mountains National Park   \n",
       "1020     Eleocharis palustris  Great Smoky Mountains National Park   \n",
       "12381    Eleocharis palustris  Great Smoky Mountains National Park   \n",
       "1032      Hesperis matronalis                  Bryce National Park   \n",
       "13372     Hesperis matronalis                  Bryce National Park   \n",
       "4178     Monotropa hypopithys  Great Smoky Mountains National Park   \n",
       "20820    Monotropa hypopithys  Great Smoky Mountains National Park   \n",
       "10038          Plantago major  Great Smoky Mountains National Park   \n",
       "365            Plantago major  Great Smoky Mountains National Park   \n",
       "18141           Poa compressa  Great Smoky Mountains National Park   \n",
       "13097           Poa compressa  Great Smoky Mountains National Park   \n",
       "17378    Potentilla norvegica               Yosemite National Park   \n",
       "10809    Potentilla norvegica               Yosemite National Park   \n",
       "7219        Prunella vulgaris  Great Smoky Mountains National Park   \n",
       "16741       Prunella vulgaris  Great Smoky Mountains National Park   \n",
       "19575            Salix exigua               Yosemite National Park   \n",
       "22698            Salix exigua               Yosemite National Park   \n",
       "17577      Spilogale putorius            Yellowstone National Park   \n",
       "627        Spilogale putorius            Yellowstone National Park   \n",
       "8710    Streptopelia decaocto            Yellowstone National Park   \n",
       "1635    Streptopelia decaocto            Yellowstone National Park   \n",
       "21151     Trifolium campestre            Yellowstone National Park   \n",
       "18435     Trifolium campestre            Yellowstone National Park   \n",
       "\n",
       "       observations  \n",
       "513             162  \n",
       "10674           162  \n",
       "4527            232  \n",
       "20294           232  \n",
       "19392           266  \n",
       "14142           266  \n",
       "7263             62  \n",
       "1454             62  \n",
       "1020             62  \n",
       "12381            62  \n",
       "1032            124  \n",
       "13372           124  \n",
       "4178             73  \n",
       "20820            73  \n",
       "10038            90  \n",
       "365              90  \n",
       "18141            80  \n",
       "13097            80  \n",
       "17378           148  \n",
       "10809           148  \n",
       "7219             75  \n",
       "16741            75  \n",
       "19575           186  \n",
       "22698           186  \n",
       "17577           256  \n",
       "627             256  \n",
       "8710            255  \n",
       "1635            255  \n",
       "21151           239  \n",
       "18435           239  "
      ]
     },
     "execution_count": 37,
     "metadata": {},
     "output_type": "execute_result"
    }
   ],
   "source": [
    "observations[observations.duplicated(keep=False)].sort_values(by='scientific_name')#.head()"
   ]
  },
  {
   "cell_type": "markdown",
   "metadata": {},
   "source": [
    "<font size=\"3\">Given the large number of observations, it is safe to say that duplicates are just measures of a species with the same number taken at different times or by different observers. It would mean that the population numbers is stable for that species in that park over some time period, or that it fluctuated and returned to a previous population number<br><br>Next, I want to look at the total numbers and counts of some aggregated data to confirm a suspicion: **each species is measured once at each park and four times in total**.</font>"
   ]
  },
  {
   "cell_type": "code",
   "execution_count": 38,
   "metadata": {},
   "outputs": [
    {
     "data": {
      "text/plain": [
       "True"
      ]
     },
     "execution_count": 38,
     "metadata": {},
     "output_type": "execute_result"
    }
   ],
   "source": [
    "species.shape[0] * 4 == observations.shape[0]"
   ]
  },
  {
   "cell_type": "markdown",
   "metadata": {},
   "source": [
    "<font size=\"3\">The number in the obserations data set is 4 times the number in the species data set. This makes sense that each speicies from the data set is observed in the four different parks, assumingly at the same time frame.<br><br>This will be confirmed with a check below.</font>f"
   ]
  },
  {
   "cell_type": "code",
   "execution_count": 39,
   "metadata": {},
   "outputs": [
    {
     "data": {
      "text/html": [
       "<div>\n",
       "<style scoped>\n",
       "    .dataframe tbody tr th:only-of-type {\n",
       "        vertical-align: middle;\n",
       "    }\n",
       "\n",
       "    .dataframe tbody tr th {\n",
       "        vertical-align: top;\n",
       "    }\n",
       "\n",
       "    .dataframe thead th {\n",
       "        text-align: right;\n",
       "    }\n",
       "</style>\n",
       "<table border=\"1\" class=\"dataframe\">\n",
       "  <thead>\n",
       "    <tr style=\"text-align: right;\">\n",
       "      <th></th>\n",
       "      <th>scientific_name</th>\n",
       "      <th>park_name</th>\n",
       "      <th>observations</th>\n",
       "    </tr>\n",
       "  </thead>\n",
       "  <tbody>\n",
       "    <tr>\n",
       "      <th>5350</th>\n",
       "      <td>Zonotrichia querula</td>\n",
       "      <td>Bryce National Park</td>\n",
       "      <td>105</td>\n",
       "    </tr>\n",
       "    <tr>\n",
       "      <th>15795</th>\n",
       "      <td>Zonotrichia querula</td>\n",
       "      <td>Great Smoky Mountains National Park</td>\n",
       "      <td>83</td>\n",
       "    </tr>\n",
       "    <tr>\n",
       "      <th>17507</th>\n",
       "      <td>Zonotrichia querula</td>\n",
       "      <td>Yellowstone National Park</td>\n",
       "      <td>268</td>\n",
       "    </tr>\n",
       "    <tr>\n",
       "      <th>12923</th>\n",
       "      <td>Zonotrichia querula</td>\n",
       "      <td>Yosemite National Park</td>\n",
       "      <td>160</td>\n",
       "    </tr>\n",
       "    <tr>\n",
       "      <th>16130</th>\n",
       "      <td>Zygodon viridissimus</td>\n",
       "      <td>Bryce National Park</td>\n",
       "      <td>100</td>\n",
       "    </tr>\n",
       "    <tr>\n",
       "      <th>3649</th>\n",
       "      <td>Zygodon viridissimus</td>\n",
       "      <td>Great Smoky Mountains National Park</td>\n",
       "      <td>71</td>\n",
       "    </tr>\n",
       "    <tr>\n",
       "      <th>5015</th>\n",
       "      <td>Zygodon viridissimus</td>\n",
       "      <td>Yellowstone National Park</td>\n",
       "      <td>270</td>\n",
       "    </tr>\n",
       "    <tr>\n",
       "      <th>5539</th>\n",
       "      <td>Zygodon viridissimus</td>\n",
       "      <td>Yosemite National Park</td>\n",
       "      <td>159</td>\n",
       "    </tr>\n",
       "    <tr>\n",
       "      <th>12775</th>\n",
       "      <td>Zygodon viridissimus var. rupestris</td>\n",
       "      <td>Bryce National Park</td>\n",
       "      <td>102</td>\n",
       "    </tr>\n",
       "    <tr>\n",
       "      <th>20040</th>\n",
       "      <td>Zygodon viridissimus var. rupestris</td>\n",
       "      <td>Great Smoky Mountains National Park</td>\n",
       "      <td>102</td>\n",
       "    </tr>\n",
       "    <tr>\n",
       "      <th>6879</th>\n",
       "      <td>Zygodon viridissimus var. rupestris</td>\n",
       "      <td>Yellowstone National Park</td>\n",
       "      <td>237</td>\n",
       "    </tr>\n",
       "    <tr>\n",
       "      <th>16237</th>\n",
       "      <td>Zygodon viridissimus var. rupestris</td>\n",
       "      <td>Yosemite National Park</td>\n",
       "      <td>210</td>\n",
       "    </tr>\n",
       "  </tbody>\n",
       "</table>\n",
       "</div>"
      ],
      "text/plain": [
       "                           scientific_name  \\\n",
       "5350                   Zonotrichia querula   \n",
       "15795                  Zonotrichia querula   \n",
       "17507                  Zonotrichia querula   \n",
       "12923                  Zonotrichia querula   \n",
       "16130                 Zygodon viridissimus   \n",
       "3649                  Zygodon viridissimus   \n",
       "5015                  Zygodon viridissimus   \n",
       "5539                  Zygodon viridissimus   \n",
       "12775  Zygodon viridissimus var. rupestris   \n",
       "20040  Zygodon viridissimus var. rupestris   \n",
       "6879   Zygodon viridissimus var. rupestris   \n",
       "16237  Zygodon viridissimus var. rupestris   \n",
       "\n",
       "                                 park_name  observations  \n",
       "5350                   Bryce National Park           105  \n",
       "15795  Great Smoky Mountains National Park            83  \n",
       "17507            Yellowstone National Park           268  \n",
       "12923               Yosemite National Park           160  \n",
       "16130                  Bryce National Park           100  \n",
       "3649   Great Smoky Mountains National Park            71  \n",
       "5015             Yellowstone National Park           270  \n",
       "5539                Yosemite National Park           159  \n",
       "12775                  Bryce National Park           102  \n",
       "20040  Great Smoky Mountains National Park           102  \n",
       "6879             Yellowstone National Park           237  \n",
       "16237               Yosemite National Park           210  "
      ]
     },
     "metadata": {},
     "output_type": "display_data"
    },
    {
     "data": {
      "text/html": [
       "<div>\n",
       "<style scoped>\n",
       "    .dataframe tbody tr th:only-of-type {\n",
       "        vertical-align: middle;\n",
       "    }\n",
       "\n",
       "    .dataframe tbody tr th {\n",
       "        vertical-align: top;\n",
       "    }\n",
       "\n",
       "    .dataframe thead th {\n",
       "        text-align: right;\n",
       "    }\n",
       "</style>\n",
       "<table border=\"1\" class=\"dataframe\">\n",
       "  <thead>\n",
       "    <tr style=\"text-align: right;\">\n",
       "      <th></th>\n",
       "      <th>scientific_name</th>\n",
       "      <th>park_name</th>\n",
       "      <th>observations</th>\n",
       "    </tr>\n",
       "  </thead>\n",
       "  <tbody>\n",
       "    <tr>\n",
       "      <th>4968</th>\n",
       "      <td>Abies bifolia</td>\n",
       "      <td>Bryce National Park</td>\n",
       "      <td>109</td>\n",
       "    </tr>\n",
       "    <tr>\n",
       "      <th>17990</th>\n",
       "      <td>Abies bifolia</td>\n",
       "      <td>Great Smoky Mountains National Park</td>\n",
       "      <td>72</td>\n",
       "    </tr>\n",
       "    <tr>\n",
       "      <th>8050</th>\n",
       "      <td>Abies bifolia</td>\n",
       "      <td>Yellowstone National Park</td>\n",
       "      <td>215</td>\n",
       "    </tr>\n",
       "    <tr>\n",
       "      <th>20930</th>\n",
       "      <td>Abies bifolia</td>\n",
       "      <td>Yosemite National Park</td>\n",
       "      <td>136</td>\n",
       "    </tr>\n",
       "    <tr>\n",
       "      <th>8170</th>\n",
       "      <td>Abies concolor</td>\n",
       "      <td>Bryce National Park</td>\n",
       "      <td>83</td>\n",
       "    </tr>\n",
       "    <tr>\n",
       "      <th>4647</th>\n",
       "      <td>Abies concolor</td>\n",
       "      <td>Great Smoky Mountains National Park</td>\n",
       "      <td>101</td>\n",
       "    </tr>\n",
       "    <tr>\n",
       "      <th>15193</th>\n",
       "      <td>Abies concolor</td>\n",
       "      <td>Yellowstone National Park</td>\n",
       "      <td>241</td>\n",
       "    </tr>\n",
       "    <tr>\n",
       "      <th>23166</th>\n",
       "      <td>Abies concolor</td>\n",
       "      <td>Yosemite National Park</td>\n",
       "      <td>205</td>\n",
       "    </tr>\n",
       "    <tr>\n",
       "      <th>2014</th>\n",
       "      <td>Abies fraseri</td>\n",
       "      <td>Bryce National Park</td>\n",
       "      <td>109</td>\n",
       "    </tr>\n",
       "    <tr>\n",
       "      <th>5112</th>\n",
       "      <td>Abies fraseri</td>\n",
       "      <td>Great Smoky Mountains National Park</td>\n",
       "      <td>81</td>\n",
       "    </tr>\n",
       "    <tr>\n",
       "      <th>11141</th>\n",
       "      <td>Abies fraseri</td>\n",
       "      <td>Yellowstone National Park</td>\n",
       "      <td>218</td>\n",
       "    </tr>\n",
       "    <tr>\n",
       "      <th>5793</th>\n",
       "      <td>Abies fraseri</td>\n",
       "      <td>Yosemite National Park</td>\n",
       "      <td>110</td>\n",
       "    </tr>\n",
       "  </tbody>\n",
       "</table>\n",
       "</div>"
      ],
      "text/plain": [
       "      scientific_name                            park_name  observations\n",
       "4968    Abies bifolia                  Bryce National Park           109\n",
       "17990   Abies bifolia  Great Smoky Mountains National Park            72\n",
       "8050    Abies bifolia            Yellowstone National Park           215\n",
       "20930   Abies bifolia               Yosemite National Park           136\n",
       "8170   Abies concolor                  Bryce National Park            83\n",
       "4647   Abies concolor  Great Smoky Mountains National Park           101\n",
       "15193  Abies concolor            Yellowstone National Park           241\n",
       "23166  Abies concolor               Yosemite National Park           205\n",
       "2014    Abies fraseri                  Bryce National Park           109\n",
       "5112    Abies fraseri  Great Smoky Mountains National Park            81\n",
       "11141   Abies fraseri            Yellowstone National Park           218\n",
       "5793    Abies fraseri               Yosemite National Park           110"
      ]
     },
     "execution_count": 39,
     "metadata": {},
     "output_type": "execute_result"
    }
   ],
   "source": [
    "sorted_species_park = observations.sort_values(by=['scientific_name', 'park_name'])\n",
    "display(sorted_species_park.tail(12))\n",
    "sorted_species_park.head(12)"
   ]
  },
  {
   "cell_type": "markdown",
   "metadata": {},
   "source": [
    "fs!This also implies that the duplicates in the species with scientific names data are not by mistake, but are seperate sets of observation measures.<br><br>Let's do some confirmation of this by looking at the value counts of value counts. *We know from are dupcliate analyis that the duplicates were in groups of 3 or 2*, so the observations should only have values of 4, 8 and 12.</font>"
   ]
  },
  {
   "cell_type": "code",
   "execution_count": 40,
   "metadata": {},
   "outputs": [
    {
     "data": {
      "text/plain": [
       "Myotis lucifugus                        12\n",
       "Puma concolor                           12\n",
       "Hypochaeris radicata                    12\n",
       "Holcus lanatus                          12\n",
       "Streptopelia decaocto                   12\n",
       "                                        ..\n",
       "Packera dimorphophylla var. paysonii     4\n",
       "Smilax bona-nox                          4\n",
       "Chondestes grammacus                     4\n",
       "Leymus triticoides                       4\n",
       "Dichanthelium depauperatum               4\n",
       "Name: scientific_name, Length: 5541, dtype: int64"
      ]
     },
     "metadata": {},
     "output_type": "display_data"
    },
    {
     "data": {
      "text/plain": [
       "scientific_name\n",
       "4                  5267\n",
       "8                   265\n",
       "12                    9\n",
       "dtype: int64"
      ]
     },
     "metadata": {},
     "output_type": "display_data"
    },
    {
     "data": {
      "text/plain": [
       "1    21068\n",
       "2     1060\n",
       "3       36\n",
       "dtype: int64"
      ]
     },
     "metadata": {},
     "output_type": "display_data"
    },
    {
     "data": {
      "text/plain": [
       "True"
      ]
     },
     "execution_count": 40,
     "metadata": {},
     "output_type": "execute_result"
    }
   ],
   "source": [
    "obsv_counts = observations.scientific_name.value_counts()\n",
    "display(obsv_counts)\n",
    "display(obsv_counts.to_frame().value_counts())\n",
    "display(sorted_species_park[['scientific_name', 'park_name']].value_counts().value_counts())\n",
    "all(obsv_counts[obsv_counts.values > 4].index.sort_values() == duplicated_scientific_names.scientific_name.unique())"
   ]
  },
  {
   "cell_type": "markdown",
   "metadata": {},
   "source": [
    "<font size=\"3\">We confirmed the names are the same and the counts match (9 species had duplicates of 3 and 265 had duplicates of 2). Sorting by name and parks also confirms that there are four observations for all species.<br><br>Therefore, we should keep all the data in the two data sets. This will cause some problems for merging the data set, though.</font>"
   ]
  },
  {
   "cell_type": "markdown",
   "metadata": {},
   "source": [
    "<font size=\"3\">Let's look at the observation data to get an idea of the meaning of the different conservation statuses. We can filter data for the duplicates using the observation counts data frame.</font>"
   ]
  },
  {
   "cell_type": "code",
   "execution_count": 41,
   "metadata": {},
   "outputs": [
    {
     "ename": "SyntaxError",
     "evalue": "invalid syntax (<ipython-input-41-cb8f7c949f5b>, line 1)",
     "output_type": "error",
     "traceback": [
      "\u001b[0;36m  File \u001b[0;32m\"<ipython-input-41-cb8f7c949f5b>\"\u001b[0;36m, line \u001b[0;32m1\u001b[0m\n\u001b[0;31m    for\u001b[0m\n\u001b[0m       ^\u001b[0m\n\u001b[0;31mSyntaxError\u001b[0m\u001b[0;31m:\u001b[0m invalid syntax\n"
     ]
    }
   ],
   "source": [
    "for\n",
    "# duplicated_scientific_names[duplicated_scientific_names.scientific_name.isin(obsv_counts[:9].index)].sort_values(by='scientific_name')"
   ]
  },
  {
   "cell_type": "code",
   "execution_count": 60,
   "metadata": {},
   "outputs": [],
   "source": [
    "in_danger = pd.read_csv('data/species_in_danger.csv', index_col=0)"
   ]
  },
  {
   "cell_type": "code",
   "execution_count": 49,
   "metadata": {},
   "outputs": [
    {
     "data": {
      "text/html": [
       "<div>\n",
       "<style scoped>\n",
       "    .dataframe tbody tr th:only-of-type {\n",
       "        vertical-align: middle;\n",
       "    }\n",
       "\n",
       "    .dataframe tbody tr th {\n",
       "        vertical-align: top;\n",
       "    }\n",
       "\n",
       "    .dataframe thead th {\n",
       "        text-align: right;\n",
       "    }\n",
       "</style>\n",
       "<table border=\"1\" class=\"dataframe\">\n",
       "  <thead>\n",
       "    <tr style=\"text-align: right;\">\n",
       "      <th></th>\n",
       "      <th>index</th>\n",
       "      <th>scientific_name</th>\n",
       "      <th>park_name</th>\n",
       "      <th>observations</th>\n",
       "    </tr>\n",
       "  </thead>\n",
       "  <tbody>\n",
       "    <tr>\n",
       "      <th>4</th>\n",
       "      <td>1294</td>\n",
       "      <td>Canis lupus</td>\n",
       "      <td>Yosemite National Park</td>\n",
       "      <td>35</td>\n",
       "    </tr>\n",
       "    <tr>\n",
       "      <th>9</th>\n",
       "      <td>1766</td>\n",
       "      <td>Canis lupus</td>\n",
       "      <td>Bryce National Park</td>\n",
       "      <td>27</td>\n",
       "    </tr>\n",
       "    <tr>\n",
       "      <th>35</th>\n",
       "      <td>7346</td>\n",
       "      <td>Canis lupus</td>\n",
       "      <td>Bryce National Park</td>\n",
       "      <td>29</td>\n",
       "    </tr>\n",
       "    <tr>\n",
       "      <th>53</th>\n",
       "      <td>9884</td>\n",
       "      <td>Canis lupus</td>\n",
       "      <td>Bryce National Park</td>\n",
       "      <td>74</td>\n",
       "    </tr>\n",
       "    <tr>\n",
       "      <th>55</th>\n",
       "      <td>10190</td>\n",
       "      <td>Canis lupus</td>\n",
       "      <td>Great Smoky Mountains National Park</td>\n",
       "      <td>15</td>\n",
       "    </tr>\n",
       "    <tr>\n",
       "      <th>56</th>\n",
       "      <td>10268</td>\n",
       "      <td>Canis lupus</td>\n",
       "      <td>Yellowstone National Park</td>\n",
       "      <td>60</td>\n",
       "    </tr>\n",
       "    <tr>\n",
       "      <th>63</th>\n",
       "      <td>10907</td>\n",
       "      <td>Canis lupus</td>\n",
       "      <td>Yellowstone National Park</td>\n",
       "      <td>67</td>\n",
       "    </tr>\n",
       "    <tr>\n",
       "      <th>72</th>\n",
       "      <td>13427</td>\n",
       "      <td>Canis lupus</td>\n",
       "      <td>Yellowstone National Park</td>\n",
       "      <td>203</td>\n",
       "    </tr>\n",
       "    <tr>\n",
       "      <th>92</th>\n",
       "      <td>17756</td>\n",
       "      <td>Canis lupus</td>\n",
       "      <td>Great Smoky Mountains National Park</td>\n",
       "      <td>14</td>\n",
       "    </tr>\n",
       "    <tr>\n",
       "      <th>98</th>\n",
       "      <td>19330</td>\n",
       "      <td>Canis lupus</td>\n",
       "      <td>Yosemite National Park</td>\n",
       "      <td>117</td>\n",
       "    </tr>\n",
       "    <tr>\n",
       "      <th>101</th>\n",
       "      <td>19987</td>\n",
       "      <td>Canis lupus</td>\n",
       "      <td>Yosemite National Park</td>\n",
       "      <td>44</td>\n",
       "    </tr>\n",
       "    <tr>\n",
       "      <th>103</th>\n",
       "      <td>20353</td>\n",
       "      <td>Canis lupus</td>\n",
       "      <td>Great Smoky Mountains National Park</td>\n",
       "      <td>30</td>\n",
       "    </tr>\n",
       "  </tbody>\n",
       "</table>\n",
       "</div>"
      ],
      "text/plain": [
       "     index scientific_name                            park_name  observations\n",
       "4     1294     Canis lupus               Yosemite National Park            35\n",
       "9     1766     Canis lupus                  Bryce National Park            27\n",
       "35    7346     Canis lupus                  Bryce National Park            29\n",
       "53    9884     Canis lupus                  Bryce National Park            74\n",
       "55   10190     Canis lupus  Great Smoky Mountains National Park            15\n",
       "56   10268     Canis lupus            Yellowstone National Park            60\n",
       "63   10907     Canis lupus            Yellowstone National Park            67\n",
       "72   13427     Canis lupus            Yellowstone National Park           203\n",
       "92   17756     Canis lupus  Great Smoky Mountains National Park            14\n",
       "98   19330     Canis lupus               Yosemite National Park           117\n",
       "101  19987     Canis lupus               Yosemite National Park            44\n",
       "103  20353     Canis lupus  Great Smoky Mountains National Park            30"
      ]
     },
     "metadata": {},
     "output_type": "display_data"
    },
    {
     "data": {
      "text/html": [
       "<div>\n",
       "<style scoped>\n",
       "    .dataframe tbody tr th:only-of-type {\n",
       "        vertical-align: middle;\n",
       "    }\n",
       "\n",
       "    .dataframe tbody tr th {\n",
       "        vertical-align: top;\n",
       "    }\n",
       "\n",
       "    .dataframe thead th {\n",
       "        text-align: right;\n",
       "    }\n",
       "</style>\n",
       "<table border=\"1\" class=\"dataframe\">\n",
       "  <thead>\n",
       "    <tr style=\"text-align: right;\">\n",
       "      <th></th>\n",
       "      <th>index</th>\n",
       "      <th>scientific_name</th>\n",
       "      <th>park_name</th>\n",
       "      <th>observations</th>\n",
       "    </tr>\n",
       "  </thead>\n",
       "  <tbody>\n",
       "    <tr>\n",
       "      <th>0</th>\n",
       "      <td>77</td>\n",
       "      <td>Puma concolor</td>\n",
       "      <td>Bryce National Park</td>\n",
       "      <td>92</td>\n",
       "    </tr>\n",
       "    <tr>\n",
       "      <th>14</th>\n",
       "      <td>2649</td>\n",
       "      <td>Puma concolor</td>\n",
       "      <td>Great Smoky Mountains National Park</td>\n",
       "      <td>79</td>\n",
       "    </tr>\n",
       "    <tr>\n",
       "      <th>18</th>\n",
       "      <td>3270</td>\n",
       "      <td>Puma concolor</td>\n",
       "      <td>Yellowstone National Park</td>\n",
       "      <td>243</td>\n",
       "    </tr>\n",
       "    <tr>\n",
       "      <th>31</th>\n",
       "      <td>6660</td>\n",
       "      <td>Puma concolor</td>\n",
       "      <td>Great Smoky Mountains National Park</td>\n",
       "      <td>48</td>\n",
       "    </tr>\n",
       "    <tr>\n",
       "      <th>46</th>\n",
       "      <td>8976</td>\n",
       "      <td>Puma concolor</td>\n",
       "      <td>Yosemite National Park</td>\n",
       "      <td>121</td>\n",
       "    </tr>\n",
       "    <tr>\n",
       "      <th>47</th>\n",
       "      <td>9298</td>\n",
       "      <td>Puma concolor</td>\n",
       "      <td>Yosemite National Park</td>\n",
       "      <td>165</td>\n",
       "    </tr>\n",
       "    <tr>\n",
       "      <th>49</th>\n",
       "      <td>9605</td>\n",
       "      <td>Puma concolor</td>\n",
       "      <td>Yellowstone National Park</td>\n",
       "      <td>240</td>\n",
       "    </tr>\n",
       "    <tr>\n",
       "      <th>58</th>\n",
       "      <td>10388</td>\n",
       "      <td>Puma concolor</td>\n",
       "      <td>Bryce National Park</td>\n",
       "      <td>128</td>\n",
       "    </tr>\n",
       "    <tr>\n",
       "      <th>81</th>\n",
       "      <td>15676</td>\n",
       "      <td>Puma concolor</td>\n",
       "      <td>Yellowstone National Park</td>\n",
       "      <td>270</td>\n",
       "    </tr>\n",
       "    <tr>\n",
       "      <th>88</th>\n",
       "      <td>16551</td>\n",
       "      <td>Puma concolor</td>\n",
       "      <td>Great Smoky Mountains National Park</td>\n",
       "      <td>112</td>\n",
       "    </tr>\n",
       "    <tr>\n",
       "      <th>91</th>\n",
       "      <td>17631</td>\n",
       "      <td>Puma concolor</td>\n",
       "      <td>Yosemite National Park</td>\n",
       "      <td>122</td>\n",
       "    </tr>\n",
       "    <tr>\n",
       "      <th>95</th>\n",
       "      <td>18321</td>\n",
       "      <td>Puma concolor</td>\n",
       "      <td>Bryce National Park</td>\n",
       "      <td>91</td>\n",
       "    </tr>\n",
       "    <tr>\n",
       "      <th>8</th>\n",
       "      <td>1635</td>\n",
       "      <td>Streptopelia decaocto</td>\n",
       "      <td>Yellowstone National Park</td>\n",
       "      <td>255</td>\n",
       "    </tr>\n",
       "    <tr>\n",
       "      <th>16</th>\n",
       "      <td>3200</td>\n",
       "      <td>Streptopelia decaocto</td>\n",
       "      <td>Bryce National Park</td>\n",
       "      <td>92</td>\n",
       "    </tr>\n",
       "    <tr>\n",
       "      <th>19</th>\n",
       "      <td>3376</td>\n",
       "      <td>Streptopelia decaocto</td>\n",
       "      <td>Yosemite National Park</td>\n",
       "      <td>124</td>\n",
       "    </tr>\n",
       "    <tr>\n",
       "      <th>23</th>\n",
       "      <td>4515</td>\n",
       "      <td>Streptopelia decaocto</td>\n",
       "      <td>Bryce National Park</td>\n",
       "      <td>88</td>\n",
       "    </tr>\n",
       "    <tr>\n",
       "      <th>33</th>\n",
       "      <td>7057</td>\n",
       "      <td>Streptopelia decaocto</td>\n",
       "      <td>Great Smoky Mountains National Park</td>\n",
       "      <td>74</td>\n",
       "    </tr>\n",
       "    <tr>\n",
       "      <th>39</th>\n",
       "      <td>8072</td>\n",
       "      <td>Streptopelia decaocto</td>\n",
       "      <td>Bryce National Park</td>\n",
       "      <td>121</td>\n",
       "    </tr>\n",
       "    <tr>\n",
       "      <th>44</th>\n",
       "      <td>8710</td>\n",
       "      <td>Streptopelia decaocto</td>\n",
       "      <td>Yellowstone National Park</td>\n",
       "      <td>255</td>\n",
       "    </tr>\n",
       "    <tr>\n",
       "      <th>54</th>\n",
       "      <td>10107</td>\n",
       "      <td>Streptopelia decaocto</td>\n",
       "      <td>Great Smoky Mountains National Park</td>\n",
       "      <td>72</td>\n",
       "    </tr>\n",
       "    <tr>\n",
       "      <th>60</th>\n",
       "      <td>10643</td>\n",
       "      <td>Streptopelia decaocto</td>\n",
       "      <td>Yellowstone National Park</td>\n",
       "      <td>261</td>\n",
       "    </tr>\n",
       "    <tr>\n",
       "      <th>79</th>\n",
       "      <td>14699</td>\n",
       "      <td>Streptopelia decaocto</td>\n",
       "      <td>Great Smoky Mountains National Park</td>\n",
       "      <td>110</td>\n",
       "    </tr>\n",
       "    <tr>\n",
       "      <th>80</th>\n",
       "      <td>14942</td>\n",
       "      <td>Streptopelia decaocto</td>\n",
       "      <td>Yosemite National Park</td>\n",
       "      <td>183</td>\n",
       "    </tr>\n",
       "    <tr>\n",
       "      <th>96</th>\n",
       "      <td>18854</td>\n",
       "      <td>Streptopelia decaocto</td>\n",
       "      <td>Yosemite National Park</td>\n",
       "      <td>150</td>\n",
       "    </tr>\n",
       "  </tbody>\n",
       "</table>\n",
       "</div>"
      ],
      "text/plain": [
       "    index        scientific_name                            park_name  \\\n",
       "0      77          Puma concolor                  Bryce National Park   \n",
       "14   2649          Puma concolor  Great Smoky Mountains National Park   \n",
       "18   3270          Puma concolor            Yellowstone National Park   \n",
       "31   6660          Puma concolor  Great Smoky Mountains National Park   \n",
       "46   8976          Puma concolor               Yosemite National Park   \n",
       "47   9298          Puma concolor               Yosemite National Park   \n",
       "49   9605          Puma concolor            Yellowstone National Park   \n",
       "58  10388          Puma concolor                  Bryce National Park   \n",
       "81  15676          Puma concolor            Yellowstone National Park   \n",
       "88  16551          Puma concolor  Great Smoky Mountains National Park   \n",
       "91  17631          Puma concolor               Yosemite National Park   \n",
       "95  18321          Puma concolor                  Bryce National Park   \n",
       "8    1635  Streptopelia decaocto            Yellowstone National Park   \n",
       "16   3200  Streptopelia decaocto                  Bryce National Park   \n",
       "19   3376  Streptopelia decaocto               Yosemite National Park   \n",
       "23   4515  Streptopelia decaocto                  Bryce National Park   \n",
       "33   7057  Streptopelia decaocto  Great Smoky Mountains National Park   \n",
       "39   8072  Streptopelia decaocto                  Bryce National Park   \n",
       "44   8710  Streptopelia decaocto            Yellowstone National Park   \n",
       "54  10107  Streptopelia decaocto  Great Smoky Mountains National Park   \n",
       "60  10643  Streptopelia decaocto            Yellowstone National Park   \n",
       "79  14699  Streptopelia decaocto  Great Smoky Mountains National Park   \n",
       "80  14942  Streptopelia decaocto               Yosemite National Park   \n",
       "96  18854  Streptopelia decaocto               Yosemite National Park   \n",
       "\n",
       "    observations  \n",
       "0             92  \n",
       "14            79  \n",
       "18           243  \n",
       "31            48  \n",
       "46           121  \n",
       "47           165  \n",
       "49           240  \n",
       "58           128  \n",
       "81           270  \n",
       "88           112  \n",
       "91           122  \n",
       "95            91  \n",
       "8            255  \n",
       "16            92  \n",
       "19           124  \n",
       "23            88  \n",
       "33            74  \n",
       "39           121  \n",
       "44           255  \n",
       "54            72  \n",
       "60           261  \n",
       "79           110  \n",
       "80           183  \n",
       "96           150  "
      ]
     },
     "execution_count": 49,
     "metadata": {},
     "output_type": "execute_result"
    }
   ],
   "source": [
    "display(observations[observations.scientific_name.isin(obsv_counts[:9].index)].reset_index().sort_values(by=['scientific_name', 'index']).head(12))\n",
    "observations[observations.scientific_name.isin(obsv_counts[:9].index)].reset_index().sort_values(by=['scientific_name', 'index']).tail(24)"
   ]
  },
  {
   "cell_type": "markdown",
   "metadata": {},
   "source": [
    "fs!A quick look shows that there is not particular order to the data that would help us seperate the multiple labelled species. That is, it is impossible to tell which set of observations match with the species with unique common names and the same scientific name. I kept the original indexing to see if that would maintain some sort of order in the parks, which could represent observations being made on certain days in a certain order. I was hoping to see if I could reorder or make conclusions about these multilisted species.br!This is not such a problem since most of this species maintain the same status. The exception is when we are dealing with species that had multiple statuses, the rainbow trout and gray wolf. The rest of the duplicates have the same labelled conservation statusfe!"
   ]
  },
  {
   "cell_type": "code",
   "execution_count": null,
   "metadata": {},
   "outputs": [],
   "source": [
    "species[species.scientific_name.isin(list_of_3_entries)].sort_values(by='scientific_name')"
   ]
  },
  {
   "cell_type": "code",
   "execution_count": null,
   "metadata": {},
   "outputs": [],
   "source": [
    "print(f'mode\\t{observations.observations.mode()}')\n",
    "print(observations.observations.agg(['max', 'min', 'median', 'mean']))"
   ]
  },
  {
   "cell_type": "code",
   "execution_count": 43,
   "metadata": {},
   "outputs": [
    {
     "data": {
      "text/plain": [
       "['Canis lupus',\n",
       " 'Eptesicus fuscus',\n",
       " 'Gavia immer',\n",
       " 'Lasionycteris noctivagans',\n",
       " 'Myotis californicus',\n",
       " 'Myotis lucifugus',\n",
       " 'Nycticorax nycticorax',\n",
       " 'Oncorhynchus mykiss',\n",
       " 'Pandion haliaetus',\n",
       " 'Riparia riparia',\n",
       " 'Taxidea taxus']"
      ]
     },
     "execution_count": 43,
     "metadata": {},
     "output_type": "execute_result"
    }
   ],
   "source": [
    "duplicated_scientific_names_under_watch"
   ]
  },
  {
   "cell_type": "code",
   "execution_count": 57,
   "metadata": {},
   "outputs": [],
   "source": [
    "# pd.set_option('display.max_rows', 100)\n",
    "\n",
    "under_watch =observations[observations.scientific_name.apply(lambda species: species in duplicated_scientific_names_under_watch)].sort_values(by=['scientific_name', 'park_name'])"
   ]
  },
  {
   "cell_type": "code",
   "execution_count": 64,
   "metadata": {},
   "outputs": [
    {
     "data": {
      "text/html": [
       "<div>\n",
       "<style scoped>\n",
       "    .dataframe tbody tr th:only-of-type {\n",
       "        vertical-align: middle;\n",
       "    }\n",
       "\n",
       "    .dataframe tbody tr th {\n",
       "        vertical-align: top;\n",
       "    }\n",
       "\n",
       "    .dataframe thead th {\n",
       "        text-align: right;\n",
       "    }\n",
       "</style>\n",
       "<table border=\"1\" class=\"dataframe\">\n",
       "  <thead>\n",
       "    <tr style=\"text-align: right;\">\n",
       "      <th></th>\n",
       "      <th>index</th>\n",
       "      <th>category</th>\n",
       "      <th>scientific_name</th>\n",
       "      <th>common_names</th>\n",
       "      <th>conservation_status</th>\n",
       "    </tr>\n",
       "  </thead>\n",
       "  <tbody>\n",
       "    <tr>\n",
       "      <th>19</th>\n",
       "      <td>104</td>\n",
       "      <td>Bird</td>\n",
       "      <td>Pandion haliaetus</td>\n",
       "      <td>Osprey</td>\n",
       "      <td>Species of Concern</td>\n",
       "    </tr>\n",
       "    <tr>\n",
       "      <th>20</th>\n",
       "      <td>226</td>\n",
       "      <td>Bird</td>\n",
       "      <td>Riparia riparia</td>\n",
       "      <td>Bank Swallow</td>\n",
       "      <td>Species of Concern</td>\n",
       "    </tr>\n",
       "    <tr>\n",
       "      <th>21</th>\n",
       "      <td>3185</td>\n",
       "      <td>Bird</td>\n",
       "      <td>Riparia riparia</td>\n",
       "      <td>Bank Swallow, Sand Martin</td>\n",
       "      <td>Species of Concern</td>\n",
       "    </tr>\n",
       "    <tr>\n",
       "      <th>22</th>\n",
       "      <td>3029</td>\n",
       "      <td>Mammal</td>\n",
       "      <td>Taxidea taxus</td>\n",
       "      <td>American Badger, Badger</td>\n",
       "      <td>Species of Concern</td>\n",
       "    </tr>\n",
       "    <tr>\n",
       "      <th>23</th>\n",
       "      <td>4457</td>\n",
       "      <td>Mammal</td>\n",
       "      <td>Taxidea taxus</td>\n",
       "      <td>Badger</td>\n",
       "      <td>Species of Concern</td>\n",
       "    </tr>\n",
       "  </tbody>\n",
       "</table>\n",
       "</div>"
      ],
      "text/plain": [
       "    index category    scientific_name               common_names  \\\n",
       "19    104     Bird  Pandion haliaetus                     Osprey   \n",
       "20    226     Bird    Riparia riparia               Bank Swallow   \n",
       "21   3185     Bird    Riparia riparia  Bank Swallow, Sand Martin   \n",
       "22   3029   Mammal      Taxidea taxus    American Badger, Badger   \n",
       "23   4457   Mammal      Taxidea taxus                     Badger   \n",
       "\n",
       "   conservation_status  \n",
       "19  Species of Concern  \n",
       "20  Species of Concern  \n",
       "21  Species of Concern  \n",
       "22  Species of Concern  \n",
       "23  Species of Concern  "
      ]
     },
     "execution_count": 64,
     "metadata": {},
     "output_type": "execute_result"
    }
   ],
   "source": [
    "in_danger.tail()"
   ]
  },
  {
   "cell_type": "code",
   "execution_count": 63,
   "metadata": {},
   "outputs": [
    {
     "data": {
      "text/html": [
       "<div>\n",
       "<style scoped>\n",
       "    .dataframe tbody tr th:only-of-type {\n",
       "        vertical-align: middle;\n",
       "    }\n",
       "\n",
       "    .dataframe tbody tr th {\n",
       "        vertical-align: top;\n",
       "    }\n",
       "\n",
       "    .dataframe thead th {\n",
       "        text-align: right;\n",
       "    }\n",
       "</style>\n",
       "<table border=\"1\" class=\"dataframe\">\n",
       "  <thead>\n",
       "    <tr style=\"text-align: right;\">\n",
       "      <th></th>\n",
       "      <th>scientific_name</th>\n",
       "      <th>park_name</th>\n",
       "      <th>observations</th>\n",
       "    </tr>\n",
       "  </thead>\n",
       "  <tbody>\n",
       "    <tr>\n",
       "      <th>872</th>\n",
       "      <td>Riparia riparia</td>\n",
       "      <td>Bryce National Park</td>\n",
       "      <td>88</td>\n",
       "    </tr>\n",
       "    <tr>\n",
       "      <th>1259</th>\n",
       "      <td>Riparia riparia</td>\n",
       "      <td>Bryce National Park</td>\n",
       "      <td>91</td>\n",
       "    </tr>\n",
       "    <tr>\n",
       "      <th>2672</th>\n",
       "      <td>Riparia riparia</td>\n",
       "      <td>Great Smoky Mountains National Park</td>\n",
       "      <td>92</td>\n",
       "    </tr>\n",
       "    <tr>\n",
       "      <th>4916</th>\n",
       "      <td>Riparia riparia</td>\n",
       "      <td>Great Smoky Mountains National Park</td>\n",
       "      <td>76</td>\n",
       "    </tr>\n",
       "    <tr>\n",
       "      <th>220</th>\n",
       "      <td>Riparia riparia</td>\n",
       "      <td>Yellowstone National Park</td>\n",
       "      <td>199</td>\n",
       "    </tr>\n",
       "    <tr>\n",
       "      <th>14216</th>\n",
       "      <td>Riparia riparia</td>\n",
       "      <td>Yellowstone National Park</td>\n",
       "      <td>226</td>\n",
       "    </tr>\n",
       "    <tr>\n",
       "      <th>7545</th>\n",
       "      <td>Riparia riparia</td>\n",
       "      <td>Yosemite National Park</td>\n",
       "      <td>125</td>\n",
       "    </tr>\n",
       "    <tr>\n",
       "      <th>18275</th>\n",
       "      <td>Riparia riparia</td>\n",
       "      <td>Yosemite National Park</td>\n",
       "      <td>145</td>\n",
       "    </tr>\n",
       "    <tr>\n",
       "      <th>1581</th>\n",
       "      <td>Taxidea taxus</td>\n",
       "      <td>Bryce National Park</td>\n",
       "      <td>94</td>\n",
       "    </tr>\n",
       "    <tr>\n",
       "      <th>11772</th>\n",
       "      <td>Taxidea taxus</td>\n",
       "      <td>Bryce National Park</td>\n",
       "      <td>65</td>\n",
       "    </tr>\n",
       "    <tr>\n",
       "      <th>5869</th>\n",
       "      <td>Taxidea taxus</td>\n",
       "      <td>Great Smoky Mountains National Park</td>\n",
       "      <td>53</td>\n",
       "    </tr>\n",
       "    <tr>\n",
       "      <th>18769</th>\n",
       "      <td>Taxidea taxus</td>\n",
       "      <td>Great Smoky Mountains National Park</td>\n",
       "      <td>84</td>\n",
       "    </tr>\n",
       "    <tr>\n",
       "      <th>11488</th>\n",
       "      <td>Taxidea taxus</td>\n",
       "      <td>Yellowstone National Park</td>\n",
       "      <td>261</td>\n",
       "    </tr>\n",
       "    <tr>\n",
       "      <th>20400</th>\n",
       "      <td>Taxidea taxus</td>\n",
       "      <td>Yellowstone National Park</td>\n",
       "      <td>188</td>\n",
       "    </tr>\n",
       "    <tr>\n",
       "      <th>3983</th>\n",
       "      <td>Taxidea taxus</td>\n",
       "      <td>Yosemite National Park</td>\n",
       "      <td>133</td>\n",
       "    </tr>\n",
       "    <tr>\n",
       "      <th>4708</th>\n",
       "      <td>Taxidea taxus</td>\n",
       "      <td>Yosemite National Park</td>\n",
       "      <td>122</td>\n",
       "    </tr>\n",
       "  </tbody>\n",
       "</table>\n",
       "</div>"
      ],
      "text/plain": [
       "       scientific_name                            park_name  observations\n",
       "872    Riparia riparia                  Bryce National Park            88\n",
       "1259   Riparia riparia                  Bryce National Park            91\n",
       "2672   Riparia riparia  Great Smoky Mountains National Park            92\n",
       "4916   Riparia riparia  Great Smoky Mountains National Park            76\n",
       "220    Riparia riparia            Yellowstone National Park           199\n",
       "14216  Riparia riparia            Yellowstone National Park           226\n",
       "7545   Riparia riparia               Yosemite National Park           125\n",
       "18275  Riparia riparia               Yosemite National Park           145\n",
       "1581     Taxidea taxus                  Bryce National Park            94\n",
       "11772    Taxidea taxus                  Bryce National Park            65\n",
       "5869     Taxidea taxus  Great Smoky Mountains National Park            53\n",
       "18769    Taxidea taxus  Great Smoky Mountains National Park            84\n",
       "11488    Taxidea taxus            Yellowstone National Park           261\n",
       "20400    Taxidea taxus            Yellowstone National Park           188\n",
       "3983     Taxidea taxus               Yosemite National Park           133\n",
       "4708     Taxidea taxus               Yosemite National Park           122"
      ]
     },
     "execution_count": 63,
     "metadata": {},
     "output_type": "execute_result"
    }
   ],
   "source": [
    "under_watch.tail(16)"
   ]
  },
  {
   "cell_type": "code",
   "execution_count": 62,
   "metadata": {},
   "outputs": [
    {
     "data": {
      "text/html": [
       "<div>\n",
       "<style scoped>\n",
       "    .dataframe tbody tr th:only-of-type {\n",
       "        vertical-align: middle;\n",
       "    }\n",
       "\n",
       "    .dataframe tbody tr th {\n",
       "        vertical-align: top;\n",
       "    }\n",
       "\n",
       "    .dataframe thead th {\n",
       "        text-align: right;\n",
       "    }\n",
       "</style>\n",
       "<table border=\"1\" class=\"dataframe\">\n",
       "  <thead>\n",
       "    <tr style=\"text-align: right;\">\n",
       "      <th></th>\n",
       "      <th>index</th>\n",
       "      <th>category</th>\n",
       "      <th>scientific_name</th>\n",
       "      <th>common_names</th>\n",
       "      <th>conservation_status</th>\n",
       "    </tr>\n",
       "  </thead>\n",
       "  <tbody>\n",
       "    <tr>\n",
       "      <th>19</th>\n",
       "      <td>104</td>\n",
       "      <td>Bird</td>\n",
       "      <td>Pandion haliaetus</td>\n",
       "      <td>Osprey</td>\n",
       "      <td>Species of Concern</td>\n",
       "    </tr>\n",
       "    <tr>\n",
       "      <th>20</th>\n",
       "      <td>226</td>\n",
       "      <td>Bird</td>\n",
       "      <td>Riparia riparia</td>\n",
       "      <td>Bank Swallow</td>\n",
       "      <td>Species of Concern</td>\n",
       "    </tr>\n",
       "    <tr>\n",
       "      <th>21</th>\n",
       "      <td>3185</td>\n",
       "      <td>Bird</td>\n",
       "      <td>Riparia riparia</td>\n",
       "      <td>Bank Swallow, Sand Martin</td>\n",
       "      <td>Species of Concern</td>\n",
       "    </tr>\n",
       "    <tr>\n",
       "      <th>22</th>\n",
       "      <td>3029</td>\n",
       "      <td>Mammal</td>\n",
       "      <td>Taxidea taxus</td>\n",
       "      <td>American Badger, Badger</td>\n",
       "      <td>Species of Concern</td>\n",
       "    </tr>\n",
       "    <tr>\n",
       "      <th>23</th>\n",
       "      <td>4457</td>\n",
       "      <td>Mammal</td>\n",
       "      <td>Taxidea taxus</td>\n",
       "      <td>Badger</td>\n",
       "      <td>Species of Concern</td>\n",
       "    </tr>\n",
       "  </tbody>\n",
       "</table>\n",
       "</div>"
      ],
      "text/plain": [
       "    index category    scientific_name               common_names  \\\n",
       "19    104     Bird  Pandion haliaetus                     Osprey   \n",
       "20    226     Bird    Riparia riparia               Bank Swallow   \n",
       "21   3185     Bird    Riparia riparia  Bank Swallow, Sand Martin   \n",
       "22   3029   Mammal      Taxidea taxus    American Badger, Badger   \n",
       "23   4457   Mammal      Taxidea taxus                     Badger   \n",
       "\n",
       "   conservation_status  \n",
       "19  Species of Concern  \n",
       "20  Species of Concern  \n",
       "21  Species of Concern  \n",
       "22  Species of Concern  \n",
       "23  Species of Concern  "
      ]
     },
     "execution_count": 62,
     "metadata": {},
     "output_type": "execute_result"
    }
   ],
   "source": []
  },
  {
   "cell_type": "markdown",
   "metadata": {},
   "source": [
    "fs!Once a species is over 250 in observation, they are no longer in danger or or concern. Threatened appears to be under 100 observations in 3 or more parks while Under Concern seems to be under 100 in 2 or more parksfe!"
   ]
  },
  {
   "cell_type": "code",
   "execution_count": 65,
   "metadata": {},
   "outputs": [],
   "source": [
    "species_2 = species[~(species.scientific_name.isin(['Canis lupus', 'Oncorhynchus mykiss']))]"
   ]
  },
  {
   "cell_type": "code",
   "execution_count": 95,
   "metadata": {},
   "outputs": [
    {
     "data": {
      "text/plain": [
       "array(['Canis lupus', 'Eptesicus fuscus', 'Gavia immer',\n",
       "       'Lasionycteris noctivagans', 'Myotis californicus',\n",
       "       'Myotis lucifugus', 'Nycticorax nycticorax', 'Oncorhynchus mykiss',\n",
       "       'Pandion haliaetus', 'Riparia riparia', 'Taxidea taxus'],\n",
       "      dtype=object)"
      ]
     },
     "metadata": {},
     "output_type": "display_data"
    },
    {
     "data": {
      "text/html": [
       "<div>\n",
       "<style scoped>\n",
       "    .dataframe tbody tr th:only-of-type {\n",
       "        vertical-align: middle;\n",
       "    }\n",
       "\n",
       "    .dataframe tbody tr th {\n",
       "        vertical-align: top;\n",
       "    }\n",
       "\n",
       "    .dataframe thead th {\n",
       "        text-align: right;\n",
       "    }\n",
       "</style>\n",
       "<table border=\"1\" class=\"dataframe\">\n",
       "  <thead>\n",
       "    <tr style=\"text-align: right;\">\n",
       "      <th></th>\n",
       "      <th></th>\n",
       "      <th>category</th>\n",
       "      <th>common_names</th>\n",
       "    </tr>\n",
       "    <tr>\n",
       "      <th>scientific_name</th>\n",
       "      <th>conservation_status</th>\n",
       "      <th></th>\n",
       "      <th></th>\n",
       "    </tr>\n",
       "  </thead>\n",
       "  <tbody>\n",
       "    <tr>\n",
       "      <th>Eptesicus fuscus</th>\n",
       "      <th>Species of Concern</th>\n",
       "      <td>2</td>\n",
       "      <td>2</td>\n",
       "    </tr>\n",
       "    <tr>\n",
       "      <th>Gavia immer</th>\n",
       "      <th>Species of Concern</th>\n",
       "      <td>2</td>\n",
       "      <td>2</td>\n",
       "    </tr>\n",
       "    <tr>\n",
       "      <th>Lasionycteris noctivagans</th>\n",
       "      <th>Species of Concern</th>\n",
       "      <td>2</td>\n",
       "      <td>2</td>\n",
       "    </tr>\n",
       "    <tr>\n",
       "      <th>Myotis californicus</th>\n",
       "      <th>Species of Concern</th>\n",
       "      <td>2</td>\n",
       "      <td>2</td>\n",
       "    </tr>\n",
       "    <tr>\n",
       "      <th>Myotis lucifugus</th>\n",
       "      <th>Species of Concern</th>\n",
       "      <td>3</td>\n",
       "      <td>3</td>\n",
       "    </tr>\n",
       "    <tr>\n",
       "      <th>Nycticorax nycticorax</th>\n",
       "      <th>Species of Concern</th>\n",
       "      <td>2</td>\n",
       "      <td>2</td>\n",
       "    </tr>\n",
       "    <tr>\n",
       "      <th>Pandion haliaetus</th>\n",
       "      <th>Species of Concern</th>\n",
       "      <td>2</td>\n",
       "      <td>2</td>\n",
       "    </tr>\n",
       "    <tr>\n",
       "      <th>Riparia riparia</th>\n",
       "      <th>Species of Concern</th>\n",
       "      <td>2</td>\n",
       "      <td>2</td>\n",
       "    </tr>\n",
       "    <tr>\n",
       "      <th>Taxidea taxus</th>\n",
       "      <th>Species of Concern</th>\n",
       "      <td>2</td>\n",
       "      <td>2</td>\n",
       "    </tr>\n",
       "  </tbody>\n",
       "</table>\n",
       "</div>"
      ],
      "text/plain": [
       "                                               category  common_names\n",
       "scientific_name           conservation_status                        \n",
       "Eptesicus fuscus          Species of Concern          2             2\n",
       "Gavia immer               Species of Concern          2             2\n",
       "Lasionycteris noctivagans Species of Concern          2             2\n",
       "Myotis californicus       Species of Concern          2             2\n",
       "Myotis lucifugus          Species of Concern          3             3\n",
       "Nycticorax nycticorax     Species of Concern          2             2\n",
       "Pandion haliaetus         Species of Concern          2             2\n",
       "Riparia riparia           Species of Concern          2             2\n",
       "Taxidea taxus             Species of Concern          2             2"
      ]
     },
     "execution_count": 95,
     "metadata": {},
     "output_type": "execute_result"
    }
   ],
   "source": [
    "display(in_danger.scientific_name.unique())\n",
    "vc = species_2.groupby(['scientific_name', 'conservation_status']).count()\n",
    "vc[vc.category > 1]"
   ]
  },
  {
   "cell_type": "markdown",
   "metadata": {},
   "source": [
    "fs!These match up. It is safe to drop the duplicates since all other species match to only a single convservation statusfe!"
   ]
  },
  {
   "cell_type": "code",
   "execution_count": 103,
   "metadata": {},
   "outputs": [
    {
     "name": "stderr",
     "output_type": "stream",
     "text": [
      "/Users/robertjfpal/opt/anaconda3/envs/the_way/lib/python3.7/site-packages/pandas/util/_decorators.py:311: SettingWithCopyWarning: \n",
      "A value is trying to be set on a copy of a slice from a DataFrame\n",
      "\n",
      "See the caveats in the documentation: https://pandas.pydata.org/pandas-docs/stable/user_guide/indexing.html#returning-a-view-versus-a-copy\n",
      "  return func(*args, **kwargs)\n"
     ]
    }
   ],
   "source": [
    "species_2.drop_duplicates(subset='scientific_name', inplace=True)"
   ]
  },
  {
   "cell_type": "code",
   "execution_count": 105,
   "metadata": {},
   "outputs": [],
   "source": [
    "observations_2 = observations[~(observations.scientific_name.isin(['Canis lupus', 'Oncorhynchus mykiss']))]"
   ]
  },
  {
   "cell_type": "code",
   "execution_count": 117,
   "metadata": {},
   "outputs": [
    {
     "data": {
      "text/plain": [
       "22156"
      ]
     },
     "metadata": {},
     "output_type": "display_data"
    },
    {
     "data": {
      "text/plain": [
       "22156"
      ]
     },
     "execution_count": 117,
     "metadata": {},
     "output_type": "execute_result"
    }
   ],
   "source": [
    "display(species_2.shape[0] * 4)\n",
    "observations_2.shape[0] - 264*4 - 8*8"
   ]
  },
  {
   "cell_type": "code",
   "execution_count": 114,
   "metadata": {},
   "outputs": [],
   "source": [
    "biodiversity = species_2.merge(observations_2, on='scientific_name', how='left')"
   ]
  },
  {
   "cell_type": "code",
   "execution_count": 125,
   "metadata": {},
   "outputs": [],
   "source": [
    "# biodiversity[biodiversity.scientific_name.isin(duplicated_scientific_names_under_watch)].head(36)"
   ]
  },
  {
   "cell_type": "code",
   "execution_count": 127,
   "metadata": {},
   "outputs": [],
   "source": [
    "biodiversity.fillna('Not in Danger', inplace=True)"
   ]
  },
  {
   "cell_type": "code",
   "execution_count": 131,
   "metadata": {},
   "outputs": [],
   "source": [
    "biodiversity.to_csv('biodiversity.csv')"
   ]
  },
  {
   "cell_type": "code",
   "execution_count": null,
   "metadata": {},
   "outputs": [],
   "source": []
  },
  {
   "cell_type": "code",
   "execution_count": null,
   "metadata": {},
   "outputs": [],
   "source": []
  },
  {
   "cell_type": "code",
   "execution_count": null,
   "metadata": {},
   "outputs": [],
   "source": [
    "##### CONCATTING"
   ]
  },
  {
   "cell_type": "code",
   "execution_count": null,
   "metadata": {},
   "outputs": [],
   "source": []
  },
  {
   "cell_type": "code",
   "execution_count": null,
   "metadata": {},
   "outputs": [],
   "source": []
  },
  {
   "cell_type": "code",
   "execution_count": null,
   "metadata": {},
   "outputs": [],
   "source": []
  },
  {
   "cell_type": "code",
   "execution_count": null,
   "metadata": {},
   "outputs": [],
   "source": [
    "species_df = pd.concat([species, species, species, species], ignore_index=True)"
   ]
  },
  {
   "cell_type": "code",
   "execution_count": null,
   "metadata": {},
   "outputs": [],
   "source": [
    "species_df = species_df.sort_values(by=['scientific_name', 'common_names']).reset_index(drop=True)#.drop(columns='scientific_name')\n",
    "# species_df.drop(columns='scientific_name', inplace=True)"
   ]
  },
  {
   "cell_type": "code",
   "execution_count": null,
   "metadata": {},
   "outputs": [],
   "source": [
    "species_df[species_df.scientific_name == 'Canis lupus']"
   ]
  },
  {
   "cell_type": "code",
   "execution_count": null,
   "metadata": {},
   "outputs": [],
   "source": [
    "observations_df = observations.sort_values(by=['scientific_name']).reset_index(drop=True)"
   ]
  },
  {
   "cell_type": "code",
   "execution_count": null,
   "metadata": {},
   "outputs": [],
   "source": [
    "observations[observations.scientific_name == 'Canis lupus'].sort_values(by=['park_name', 'observations'])"
   ]
  },
  {
   "cell_type": "code",
   "execution_count": null,
   "metadata": {},
   "outputs": [],
   "source": [
    "species_df = species_df.drop(columns='scientific_name')\n",
    "df = pd.concat([species_df, observations_df], axis=1)\n",
    "df"
   ]
  },
  {
   "cell_type": "code",
   "execution_count": null,
   "metadata": {},
   "outputs": [],
   "source": [
    "df[df.scientific_name == 'Canis lupus'].sort_values(by=['common_names', 'conservation_status'])"
   ]
  },
  {
   "cell_type": "code",
   "execution_count": null,
   "metadata": {},
   "outputs": [],
   "source": [
    "####### STOP HERE"
   ]
  },
  {
   "cell_type": "code",
   "execution_count": null,
   "metadata": {},
   "outputs": [],
   "source": []
  },
  {
   "cell_type": "code",
   "execution_count": null,
   "metadata": {},
   "outputs": [],
   "source": []
  },
  {
   "cell_type": "code",
   "execution_count": null,
   "metadata": {},
   "outputs": [],
   "source": []
  },
  {
   "cell_type": "code",
   "execution_count": null,
   "metadata": {},
   "outputs": [],
   "source": []
  },
  {
   "cell_type": "code",
   "execution_count": null,
   "metadata": {},
   "outputs": [],
   "source": []
  },
  {
   "cell_type": "code",
   "execution_count": null,
   "metadata": {},
   "outputs": [],
   "source": []
  },
  {
   "cell_type": "code",
   "execution_count": null,
   "metadata": {},
   "outputs": [],
   "source": []
  },
  {
   "cell_type": "code",
   "execution_count": null,
   "metadata": {},
   "outputs": [],
   "source": []
  },
  {
   "cell_type": "code",
   "execution_count": null,
   "metadata": {},
   "outputs": [],
   "source": []
  },
  {
   "cell_type": "markdown",
   "metadata": {},
   "source": [
    "It appears that the Gray Wolf was endangered but recovered, while the Rainbow Trout were no longer under threat or of concern, at least in the 4 National Parks under study"
   ]
  },
  {
   "cell_type": "code",
   "execution_count": null,
   "metadata": {},
   "outputs": [],
   "source": [
    "observations[observations.scientific_name == 'Canis lupus'].sort_values(by='observations')"
   ]
  },
  {
   "cell_type": "code",
   "execution_count": null,
   "metadata": {},
   "outputs": [],
   "source": [
    "observations[observations.scientific_name == 'Oncorhynchus mykiss'].sort_values(by='observations')"
   ]
  },
  {
   "cell_type": "code",
   "execution_count": null,
   "metadata": {},
   "outputs": [],
   "source": [
    "trout_ob = observations[observations.scientific_name == 'Oncorhynchus mykiss'].sort_values(by='observations')\n",
    "trout_sp = species[species.scientific_name == 'Oncorhynchus mykiss']"
   ]
  },
  {
   "cell_type": "code",
   "execution_count": null,
   "metadata": {},
   "outputs": [],
   "source": [
    "trout_sp"
   ]
  },
  {
   "cell_type": "code",
   "execution_count": null,
   "metadata": {},
   "outputs": [],
   "source": [
    "trout_ob"
   ]
  },
  {
   "cell_type": "code",
   "execution_count": null,
   "metadata": {},
   "outputs": [],
   "source": [
    "trout = pd.merge(trout_sp, trout_ob, how='cross')"
   ]
  },
  {
   "cell_type": "code",
   "execution_count": null,
   "metadata": {},
   "outputs": [],
   "source": [
    "trout[(trout.conservation_status.isna()) & (trout.observations > 200) | ~trout.conservation_status.isna()]\n"
   ]
  },
  {
   "cell_type": "code",
   "execution_count": null,
   "metadata": {},
   "outputs": [],
   "source": [
    "df = duplicated_scientific_names.merge(observations, on='scientific_name')"
   ]
  },
  {
   "cell_type": "code",
   "execution_count": null,
   "metadata": {},
   "outputs": [],
   "source": [
    "# df.drop_duplicates(subset=['scientific_name', 'observations']).head(20)"
   ]
  },
  {
   "cell_type": "markdown",
   "metadata": {},
   "source": []
  },
  {
   "cell_type": "markdown",
   "metadata": {},
   "source": []
  },
  {
   "cell_type": "code",
   "execution_count": null,
   "metadata": {},
   "outputs": [],
   "source": [
    "# observations[observations.duplicated(subset=['scientific_name'], keep=False)].sort_values(by='scientific_name')"
   ]
  },
  {
   "cell_type": "markdown",
   "metadata": {},
   "source": [
    "The names are equal in bddoth data sets, so there would be no species that are in one but not in another"
   ]
  },
  {
   "cell_type": "code",
   "execution_count": null,
   "metadata": {},
   "outputs": [],
   "source": []
  },
  {
   "cell_type": "markdown",
   "metadata": {},
   "source": [
    "Looking at duplicated rows\n",
    "Figure out if the duplicates are errors or not"
   ]
  },
  {
   "cell_type": "code",
   "execution_count": null,
   "metadata": {},
   "outputs": [],
   "source": [
    "multiple_species = species.scientific_name.value_counts()"
   ]
  },
  {
   "cell_type": "code",
   "execution_count": null,
   "metadata": {},
   "outputs": [],
   "source": [
    "multiple_species.where(multiple_species > 1, inplace=True)"
   ]
  },
  {
   "cell_type": "code",
   "execution_count": null,
   "metadata": {},
   "outputs": [],
   "source": [
    "multiple_species.dropna(inplace=True)"
   ]
  },
  {
   "cell_type": "code",
   "execution_count": null,
   "metadata": {},
   "outputs": [],
   "source": [
    "multiple_species.value_counts()"
   ]
  },
  {
   "cell_type": "code",
   "execution_count": null,
   "metadata": {},
   "outputs": [],
   "source": [
    "species_changed_status = multiple_species.index.tolist()"
   ]
  },
  {
   "cell_type": "code",
   "execution_count": null,
   "metadata": {},
   "outputs": [],
   "source": [
    "species_df = species[~species.scientific_name.isin(species_changed_status)]"
   ]
  },
  {
   "cell_type": "code",
   "execution_count": null,
   "metadata": {},
   "outputs": [],
   "source": [
    "species_df.shape"
   ]
  },
  {
   "cell_type": "code",
   "execution_count": null,
   "metadata": {},
   "outputs": [],
   "source": [
    "species_df.duplicated().sum()"
   ]
  },
  {
   "cell_type": "code",
   "execution_count": null,
   "metadata": {},
   "outputs": [],
   "source": [
    "(species_df.groupby('scientific_name').count()['conservation_status'] == 1).sum()"
   ]
  },
  {
   "cell_type": "code",
   "execution_count": null,
   "metadata": {},
   "outputs": [],
   "source": [
    "# species_df[~(species_df.conservation_status == \"`not in danger`\")]\n",
    "species_df.head()"
   ]
  },
  {
   "cell_type": "code",
   "execution_count": null,
   "metadata": {},
   "outputs": [],
   "source": [
    "observations.head()"
   ]
  },
  {
   "cell_type": "code",
   "execution_count": null,
   "metadata": {},
   "outputs": [],
   "source": [
    "observations.shape"
   ]
  },
  {
   "cell_type": "markdown",
   "metadata": {},
   "source": [
    "Data merging safely from here"
   ]
  },
  {
   "cell_type": "code",
   "execution_count": null,
   "metadata": {},
   "outputs": [],
   "source": [
    "right = species_df.merge(observations, on='scientific_name', how='right').sort_values(by=['scientific_name', 'observations']).reset_index(drop=True)"
   ]
  },
  {
   "cell_type": "code",
   "execution_count": null,
   "metadata": {},
   "outputs": [],
   "source": [
    "left = species_df.join(observations.set_index('scientific_name'), on='scientific_name', how='left').sort_values(by=['scientific_name', 'observations']).reset_index(drop=True)"
   ]
  },
  {
   "cell_type": "code",
   "execution_count": null,
   "metadata": {},
   "outputs": [],
   "source": [
    "right[right.scientific_name.isin(species_changed_status)]"
   ]
  },
  {
   "cell_type": "code",
   "execution_count": null,
   "metadata": {},
   "outputs": [],
   "source": [
    "len(species_changed_status)"
   ]
  },
  {
   "cell_type": "code",
   "execution_count": null,
   "metadata": {},
   "outputs": [],
   "source": []
  }
 ],
 "metadata": {
  "kernelspec": {
   "display_name": "the_way",
   "language": "python",
   "name": "the_way"
  },
  "language_info": {
   "codemirror_mode": {
    "name": "ipython",
    "version": 3
   },
   "file_extension": ".py",
   "mimetype": "text/x-python",
   "name": "python",
   "nbconvert_exporter": "python",
   "pygments_lexer": "ipython3",
   "version": "3.7.11"
  }
 },
 "nbformat": 4,
 "nbformat_minor": 4
}
